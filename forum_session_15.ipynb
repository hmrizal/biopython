{
  "nbformat": 4,
  "nbformat_minor": 0,
  "metadata": {
    "colab": {
      "provenance": [],
      "authorship_tag": "ABX9TyOQ69vNqC3LA7sG1P6ndMau",
      "include_colab_link": true
    },
    "kernelspec": {
      "name": "python3",
      "display_name": "Python 3"
    },
    "language_info": {
      "name": "python"
    }
  },
  "cells": [
    {
      "cell_type": "markdown",
      "metadata": {
        "id": "view-in-github",
        "colab_type": "text"
      },
      "source": [
        "<a href=\"https://colab.research.google.com/github/hmrizal/biopython/blob/main/forum_session_15.ipynb\" target=\"_parent\"><img src=\"https://colab.research.google.com/assets/colab-badge.svg\" alt=\"Open In Colab\"/></a>"
      ]
    },
    {
      "cell_type": "code",
      "execution_count": null,
      "metadata": {
        "colab": {
          "base_uri": "https://localhost:8080/"
        },
        "id": "dFeLqVIvvl6j",
        "outputId": "cce97b28-ce10-4955-f641-bd6222107843"
      },
      "outputs": [
        {
          "output_type": "stream",
          "name": "stdout",
          "text": [
            "Looking in indexes: https://pypi.org/simple, https://us-python.pkg.dev/colab-wheels/public/simple/\n",
            "Collecting biopython\n",
            "  Downloading biopython-1.80-cp38-cp38-manylinux_2_17_x86_64.manylinux2014_x86_64.whl (3.1 MB)\n",
            "\u001b[2K     \u001b[90m━━━━━━━━━━━━━━━━━━━━━━━━━━━━━━━━━━━━━━━━\u001b[0m \u001b[32m3.1/3.1 MB\u001b[0m \u001b[31m32.2 MB/s\u001b[0m eta \u001b[36m0:00:00\u001b[0m\n",
            "\u001b[?25hRequirement already satisfied: numpy in /usr/local/lib/python3.8/dist-packages (from biopython) (1.21.6)\n",
            "Installing collected packages: biopython\n",
            "Successfully installed biopython-1.80\n"
          ]
        }
      ],
      "source": [
        "!pip install biopython"
      ]
    },
    {
      "cell_type": "code",
      "source": [
        "!pip install matplotlib"
      ],
      "metadata": {
        "colab": {
          "base_uri": "https://localhost:8080/"
        },
        "id": "NlSXxKYwv-8X",
        "outputId": "d5f4842f-b28b-4ee0-e915-7760622dbec7"
      },
      "execution_count": null,
      "outputs": [
        {
          "output_type": "stream",
          "name": "stdout",
          "text": [
            "Looking in indexes: https://pypi.org/simple, https://us-python.pkg.dev/colab-wheels/public/simple/\n",
            "Requirement already satisfied: matplotlib in /usr/local/lib/python3.8/dist-packages (3.2.2)\n",
            "Requirement already satisfied: cycler>=0.10 in /usr/local/lib/python3.8/dist-packages (from matplotlib) (0.11.0)\n",
            "Requirement already satisfied: numpy>=1.11 in /usr/local/lib/python3.8/dist-packages (from matplotlib) (1.21.6)\n",
            "Requirement already satisfied: pyparsing!=2.0.4,!=2.1.2,!=2.1.6,>=2.0.1 in /usr/local/lib/python3.8/dist-packages (from matplotlib) (3.0.9)\n",
            "Requirement already satisfied: python-dateutil>=2.1 in /usr/local/lib/python3.8/dist-packages (from matplotlib) (2.8.2)\n",
            "Requirement already satisfied: kiwisolver>=1.0.1 in /usr/local/lib/python3.8/dist-packages (from matplotlib) (1.4.4)\n",
            "Requirement already satisfied: six>=1.5 in /usr/local/lib/python3.8/dist-packages (from python-dateutil>=2.1->matplotlib) (1.15.0)\n"
          ]
        }
      ]
    },
    {
      "cell_type": "code",
      "source": [
        "!pip install python-Levenshtein"
      ],
      "metadata": {
        "colab": {
          "base_uri": "https://localhost:8080/"
        },
        "id": "-Wd09BVnwbug",
        "outputId": "9780ab7d-e190-411d-ed6d-fdbdd908d0c6"
      },
      "execution_count": null,
      "outputs": [
        {
          "output_type": "stream",
          "name": "stdout",
          "text": [
            "Looking in indexes: https://pypi.org/simple, https://us-python.pkg.dev/colab-wheels/public/simple/\n",
            "Collecting python-Levenshtein\n",
            "  Downloading python_Levenshtein-0.20.9-py3-none-any.whl (9.4 kB)\n",
            "Collecting Levenshtein==0.20.9\n",
            "  Downloading Levenshtein-0.20.9-cp38-cp38-manylinux_2_17_x86_64.manylinux2014_x86_64.whl (174 kB)\n",
            "\u001b[2K     \u001b[90m━━━━━━━━━━━━━━━━━━━━━━━━━━━━━━━━━━━━━━━\u001b[0m \u001b[32m174.0/174.0 KB\u001b[0m \u001b[31m7.5 MB/s\u001b[0m eta \u001b[36m0:00:00\u001b[0m\n",
            "\u001b[?25hCollecting rapidfuzz<3.0.0,>=2.3.0\n",
            "  Downloading rapidfuzz-2.13.7-cp38-cp38-manylinux_2_17_x86_64.manylinux2014_x86_64.whl (2.2 MB)\n",
            "\u001b[2K     \u001b[90m━━━━━━━━━━━━━━━━━━━━━━━━━━━━━━━━━━━━━━━━\u001b[0m \u001b[32m2.2/2.2 MB\u001b[0m \u001b[31m42.9 MB/s\u001b[0m eta \u001b[36m0:00:00\u001b[0m\n",
            "\u001b[?25hInstalling collected packages: rapidfuzz, Levenshtein, python-Levenshtein\n",
            "Successfully installed Levenshtein-0.20.9 python-Levenshtein-0.20.9 rapidfuzz-2.13.7\n"
          ]
        }
      ]
    },
    {
      "cell_type": "markdown",
      "source": [
        "Given 2 Sequences:\n",
        "\n",
        "Seq 1 = 'ATGCATGGTGCGCGA'<br>\n",
        "Seq 2 = 'ATTTGTGCTCCTGGA'\n"
      ],
      "metadata": {
        "id": "l2FSZlKOwz2w"
      }
    },
    {
      "cell_type": "code",
      "source": [
        "import Bio"
      ],
      "metadata": {
        "id": "mbmJy4gmySju"
      },
      "execution_count": null,
      "outputs": []
    },
    {
      "cell_type": "code",
      "source": [
        "from Bio.Seq import Seq"
      ],
      "metadata": {
        "id": "KQPV2lgoyMbo"
      },
      "execution_count": null,
      "outputs": []
    },
    {
      "cell_type": "code",
      "source": [
        "seq_1 = 'ATGCATGGTGCGCGA'\n",
        "seq_2 = 'ATTTGTGCTCCTGGA'"
      ],
      "metadata": {
        "id": "G3rZWqToyVBI"
      },
      "execution_count": null,
      "outputs": []
    },
    {
      "cell_type": "code",
      "source": [
        "# Simple DNA sequence\n",
        "\n",
        "seq1 = Seq(seq_1)\n",
        "seq2 = Seq(seq_2)\n",
        "\n",
        "print(\"Seq 1:\", seq1)\n",
        "print(\"Seq 2:\", seq2)"
      ],
      "metadata": {
        "colab": {
          "base_uri": "https://localhost:8080/"
        },
        "id": "c97_74Pdywmv",
        "outputId": "29867366-5818-490c-d47a-4413d5b9486a"
      },
      "execution_count": null,
      "outputs": [
        {
          "output_type": "stream",
          "name": "stdout",
          "text": [
            "Seq 1: ATGCATGGTGCGCGA\n",
            "Seq 2: ATTTGTGCTCCTGGA\n"
          ]
        }
      ]
    },
    {
      "cell_type": "code",
      "source": [
        "print(\"Seq 1 panjangnya\",len(seq1),\"nukleotida\")\n",
        "print(\"Seq 2 panjangnya\",len(seq2),\"nukleotida\")"
      ],
      "metadata": {
        "colab": {
          "base_uri": "https://localhost:8080/"
        },
        "id": "7roFqg3_9rqw",
        "outputId": "6e8955d7-0fc8-4739-ed49-07a1127afaa5"
      },
      "execution_count": null,
      "outputs": [
        {
          "output_type": "stream",
          "name": "stdout",
          "text": [
            "Seq 1 panjangnya 15 nukleotida\n",
            "Seq 2 panjangnya 15 nukleotida\n"
          ]
        }
      ]
    },
    {
      "cell_type": "code",
      "source": [
        "from Bio import pairwise2\n",
        "from Bio.pairwise2 import format_alignment"
      ],
      "metadata": {
        "id": "Q0qCaRV3xuzx"
      },
      "execution_count": null,
      "outputs": []
    },
    {
      "cell_type": "code",
      "source": [
        "# Get the global alignment and the score\n",
        "\n",
        "alignment = pairwise2.align.globalxx(seq1,seq2)\n",
        "alignment2 = pairwise2.align.globalxx(seq1,seq2,one_alignment_only=True,score_only=True)\n",
        "\n",
        "# similarity\n",
        "\n",
        "sim = round(alignment2/len(seq2)*100,2)"
      ],
      "metadata": {
        "id": "oke7XPn5xymp"
      },
      "execution_count": null,
      "outputs": []
    },
    {
      "cell_type": "code",
      "source": [
        "# Get the global alignment and the score\n",
        "\n",
        "loc_alignment = pairwise2.align.localxx(seq1,seq2)\n",
        "loc_alignment2 = pairwise2.align.localxx(seq1,seq2,one_alignment_only=True,score_only=True)\n",
        "\n",
        "# similarity\n",
        "\n",
        "loc_sim = round(loc_alignment2/len(seq2)*100,2)"
      ],
      "metadata": {
        "id": "hgdmZQ5Ez-Bo"
      },
      "execution_count": null,
      "outputs": []
    },
    {
      "cell_type": "code",
      "source": [
        "print(\"Global alignment\")\n",
        "print(\"{} kemungkinan\\nSkor = {}\\nSimilarity = {}\".format(len(alignment),alignment2,sim))"
      ],
      "metadata": {
        "colab": {
          "base_uri": "https://localhost:8080/"
        },
        "id": "5e5ERQEU0R34",
        "outputId": "8099d959-6c2e-4dbc-8469-166b6de484b7"
      },
      "execution_count": null,
      "outputs": [
        {
          "output_type": "stream",
          "name": "stdout",
          "text": [
            "Global alignment\n",
            "227 kemungkinan\n",
            "Skor = 10.0\n",
            "Similarity = 66.67\n"
          ]
        }
      ]
    },
    {
      "cell_type": "code",
      "source": [
        "print(\"Local alignment\")\n",
        "print(\"{} kemungkinan\\nSkor = {}\\nSimilarity = {}\".format(len(loc_alignment),loc_alignment2,loc_sim))"
      ],
      "metadata": {
        "colab": {
          "base_uri": "https://localhost:8080/"
        },
        "id": "-ieCpZsJ4AiU",
        "outputId": "b280856a-c040-41ff-e147-f14e50eb8e78"
      },
      "execution_count": null,
      "outputs": [
        {
          "output_type": "stream",
          "name": "stdout",
          "text": [
            "Local alignment\n",
            "227 kemungkinan\n",
            "Skor = 10.0\n",
            "Similarity = 66.67\n"
          ]
        }
      ]
    },
    {
      "cell_type": "code",
      "source": [
        "# Get the global alignment with the highest score\n",
        "\n",
        "alignment_ms = pairwise2.align.globalms(seq1,seq2,2,-1,-0.5,-0.1)\n",
        "alignment2_ms = pairwise2.align.globalms(seq1,seq2,2,-1,-0.5,-0.1,one_alignment_only=True,score_only=True)\n",
        "\n",
        "# similarity\n",
        "\n",
        "sim_ms = round(alignment2_ms/len(seq2)*100,2)"
      ],
      "metadata": {
        "id": "0yJn6SMT1k7-"
      },
      "execution_count": null,
      "outputs": []
    },
    {
      "cell_type": "code",
      "source": [
        "# Get the local alignment with the highest score\n",
        "\n",
        "loc_alignment_ms = pairwise2.align.localms(seq1,seq2,2,-1,-0.5,-0.1)\n",
        "loc_alignment2_ms = pairwise2.align.localms(seq1,seq2,2,-1,-0.5,-0.1,one_alignment_only=True,score_only=True)\n",
        "\n",
        "# similarity\n",
        "\n",
        "loc_sim_ms = round(loc_alignment2_ms/len(seq2)*100,2)"
      ],
      "metadata": {
        "id": "cvTcyrm16Xq0"
      },
      "execution_count": null,
      "outputs": []
    },
    {
      "cell_type": "code",
      "source": [
        "print(\"Global alignment dengan Skor Tertinggi\")\n",
        "print(\"{} kemungkinan\\nSkor = {}\\nSimilarity = {}%\".format(len(alignment_ms),alignment2_ms,sim_ms))"
      ],
      "metadata": {
        "colab": {
          "base_uri": "https://localhost:8080/"
        },
        "id": "yo9mLVpl6lk7",
        "outputId": "70c7bf59-57ba-4d44-a41f-be98bcfb90fc"
      },
      "execution_count": null,
      "outputs": [
        {
          "output_type": "stream",
          "name": "stdout",
          "text": [
            "Global alignment dengan Skor Tertinggi\n",
            "7 kemungkinan\n",
            "Skor = 17.0\n",
            "Similarity = 113.33%\n"
          ]
        }
      ]
    },
    {
      "cell_type": "code",
      "source": [
        "print(\"Local alignment dengan Skor Tertinggi\")\n",
        "print(\"{} kemungkinan\\nSkor = {}\\nSimilarity = {}%\".format(len(loc_alignment_ms),loc_alignment2_ms,loc_sim_ms))"
      ],
      "metadata": {
        "colab": {
          "base_uri": "https://localhost:8080/"
        },
        "id": "UkzjF2FZ7qM9",
        "outputId": "0057921f-1833-41a4-b731-71e75d77a9dc"
      },
      "execution_count": null,
      "outputs": [
        {
          "output_type": "stream",
          "name": "stdout",
          "text": [
            "Local alignment dengan Skor Tertinggi\n",
            "7 kemungkinan\n",
            "Skor = 17.0\n",
            "Similarity = 113.33%\n"
          ]
        }
      ]
    },
    {
      "cell_type": "code",
      "source": [
        "# Fungsi Hamming Distance\n",
        "\n",
        "def hamming_distance(lhs,rhs):\n",
        "    return len([(x,y) for x,y in zip(lhs,rhs) if x != y])\n",
        "\n",
        "hamming_distance(seq1,seq2)"
      ],
      "metadata": {
        "colab": {
          "base_uri": "https://localhost:8080/"
        },
        "id": "FuVPh8ZL8Irj",
        "outputId": "e254a50e-c543-47f8-8af1-07be541a41cd"
      },
      "execution_count": null,
      "outputs": [
        {
          "output_type": "execute_result",
          "data": {
            "text/plain": [
              "7"
            ]
          },
          "metadata": {},
          "execution_count": 55
        }
      ]
    },
    {
      "cell_type": "code",
      "source": [
        "from Levenshtein import distance"
      ],
      "metadata": {
        "id": "-kZDz0kO9MF0"
      },
      "execution_count": null,
      "outputs": []
    },
    {
      "cell_type": "code",
      "source": [
        "print(\"Hamming Distance =\",hamming_distance(seq1,seq2))\n",
        "print(\"Levenshtein Distance =\",distance(str(seq1),str(seq2)))"
      ],
      "metadata": {
        "colab": {
          "base_uri": "https://localhost:8080/"
        },
        "id": "NRsYG_Wz-Ghy",
        "outputId": "bef2995b-3f8d-4f96-c96d-bda337b9dd7e"
      },
      "execution_count": null,
      "outputs": [
        {
          "output_type": "stream",
          "name": "stdout",
          "text": [
            "Hamming Distance = 7\n",
            "Levenshtein Distance = 7\n"
          ]
        }
      ]
    },
    {
      "cell_type": "code",
      "source": [
        "import matplotlib.pyplot as plt\n",
        "import numpy as np"
      ],
      "metadata": {
        "id": "Wur0zIiQ-dc7"
      },
      "execution_count": null,
      "outputs": []
    },
    {
      "cell_type": "code",
      "source": [
        "# dotplot function\n",
        "\n",
        "def delta(x,y):\n",
        "    return 0 if x == y else 1\n",
        "\n",
        "\n",
        "def M(seq1,seq2,i,j,k):\n",
        "    return sum(delta(x,y) for x,y in zip(seq1[i:i+k],seq2[j:j+k]))\n",
        "\n",
        "\n",
        "def makeMatrix(seq1,seq2,k):\n",
        "    n = len(seq1)\n",
        "    m = len(seq2)\n",
        "    return [[M(seq1,seq2,i,j,k) for j in range(m-k+1)] for i in range(n-k+1)]\n",
        "\n",
        "\n",
        "def plotMatrix(M,t, seq1, seq2, nonblank = chr(0x25A0), blank = ' '):\n",
        "    print(' |' + seq2)\n",
        "    print('-'*(2 + len(seq2)))\n",
        "    for label,row in zip(seq1,M):\n",
        "        line = ''.join(nonblank if s < t else blank for s in row)\n",
        "        print(label + '|' + line)\n",
        "\n",
        "\n",
        "def dotplot(seq1,seq2,k = 1,t = 1):\n",
        "    M = makeMatrix(seq1,seq2,k)\n",
        "    plotMatrix(M, t, seq1,seq2) #experiment with character choice\n",
        "\n",
        "\n",
        "def dotplotx(seq1,seq2):\n",
        "    plt.imshow(np.array(makeMatrix(seq1,seq2,1)))\n",
        "    xt=plt.xticks(np.arange(len(list(seq2))),list(seq2))\n",
        "    yt=plt.yticks(np.arange(len(list(seq1))),list(seq1))\n",
        "    plt.show()"
      ],
      "metadata": {
        "id": "vsAMb0ug-e3C"
      },
      "execution_count": null,
      "outputs": []
    },
    {
      "cell_type": "code",
      "source": [
        "# Identical show diagonal\n",
        "\n",
        "dotplotx(seq1,seq1)\n",
        "dotplotx(seq2,seq2)"
      ],
      "metadata": {
        "colab": {
          "base_uri": "https://localhost:8080/",
          "height": 513
        },
        "id": "j9hXILIx-mGk",
        "outputId": "56906dcc-263e-4027-c599-fd1b5fcd9f44"
      },
      "execution_count": null,
      "outputs": [
        {
          "output_type": "display_data",
          "data": {
            "text/plain": [
              "<Figure size 432x288 with 1 Axes>"
            ],
            "image/png": "[encoded data removed]"
          },
          "metadata": {
            "needs_background": "light"
          }
        },
        {
          "output_type": "display_data",
          "data": {
            "text/plain": [
              "<Figure size 432x288 with 1 Axes>"
            ],
            "image/png": "[encoded data removed]"
          },
          "metadata": {
            "needs_background": "light"
          }
        }
      ]
    },
    {
      "cell_type": "code",
      "source": [
        "#plt.figure(figsize=(15, 15))\n",
        "dotplotx(seq1,seq2)"
      ],
      "metadata": {
        "colab": {
          "base_uri": "https://localhost:8080/"
        },
        "id": "wMj7tTTe-8wA",
        "outputId": "1b5cb38b-c9de-45dc-cb6a-7b890eb4e29e"
      },
      "execution_count": null,
      "outputs": [
        {
          "output_type": "display_data",
          "data": {
            "text/plain": [
              "<Figure size 432x288 with 1 Axes>"
            ],
            "image/png": "[encoded data removed]"
          },
          "metadata": {
            "needs_background": "light"
          }
        }
      ]
    }
  ]
}
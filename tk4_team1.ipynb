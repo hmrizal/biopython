{
  "nbformat": 4,
  "nbformat_minor": 0,
  "metadata": {
    "colab": {
      "provenance": [],
      "authorship_tag": "ABX9TyO7el4Y21P3IpDAR5gzeE6W",
      "include_colab_link": true
    },
    "kernelspec": {
      "name": "python3",
      "display_name": "Python 3"
    },
    "language_info": {
      "name": "python"
    }
  },
  "cells": [
    {
      "cell_type": "markdown",
      "metadata": {
        "id": "view-in-github",
        "colab_type": "text"
      },
      "source": [
        "<a href=\"https://colab.research.google.com/github/hmrizal/biopython/blob/main/tk4_team1.ipynb\" target=\"_parent\"><img src=\"https://colab.research.google.com/assets/colab-badge.svg\" alt=\"Open In Colab\"/></a>"
      ]
    },
    {
      "cell_type": "markdown",
      "source": [
        "# Tugas Kelompok 4 - Computational Physics and Biology"
      ],
      "metadata": {
        "id": "OYthbWxqp8HU"
      }
    },
    {
      "cell_type": "markdown",
      "source": [
        "## Team 1\n",
        "- 2502049813 – Anugerah Pratama\n",
        "- 2502058490 – Helmi M. R.\n",
        "- 2502057304 – Albert Ilham Daniswara\n",
        "- 2502052341 – Arif Hidayat\n",
        "- 2502060993 – Muh. Nur Fajar"
      ],
      "metadata": {
        "id": "6KCMNs1iqWe9"
      }
    },
    {
      "cell_type": "markdown",
      "source": [
        "## Group Task IV : Basic Sequence Analysis and Sequence Alignment\n",
        "\n",
        "Diberikan 2 sekuens DNA sebagai berikut\n",
        "\n",
        "generic_dna 1 = ATGATCTCGTAA <br>\n",
        "generic_dna 2 = ATTAAAGGTTTATACCTTCCCAGGTAACAAACCAACCAA\n",
        "\n",
        "Buat Python NoteBook (.IPYNB) menggunakan Jupyter Notebook atau Google Collab untuk melakuan seluruh langkah analisis sekuens dan pengurutan sekuens menggunakan template yang diberikan dalam tutorial Lab\n"
      ],
      "metadata": {
        "id": "KMy6qzphrWyr"
      }
    },
    {
      "cell_type": "code",
      "execution_count": null,
      "metadata": {
        "colab": {
          "base_uri": "https://localhost:8080/"
        },
        "id": "9a_dgNi7pbMG",
        "outputId": "b70f9a1e-3c73-47d7-b268-a03d615d253d"
      },
      "outputs": [
        {
          "output_type": "stream",
          "name": "stdout",
          "text": [
            "Looking in indexes: https://pypi.org/simple, https://us-python.pkg.dev/colab-wheels/public/simple/\n",
            "Collecting biopython\n",
            "  Downloading biopython-1.80-cp38-cp38-manylinux_2_17_x86_64.manylinux2014_x86_64.whl (3.1 MB)\n",
            "\u001b[2K     \u001b[90m━━━━━━━━━━━━━━━━━━━━━━━━━━━━━━━━━━━━━━━━\u001b[0m \u001b[32m3.1/3.1 MB\u001b[0m \u001b[31m30.9 MB/s\u001b[0m eta \u001b[36m0:00:00\u001b[0m\n",
            "\u001b[?25hRequirement already satisfied: numpy in /usr/local/lib/python3.8/dist-packages (from biopython) (1.21.6)\n",
            "Installing collected packages: biopython\n",
            "Successfully installed biopython-1.80\n"
          ]
        }
      ],
      "source": [
        "!pip install biopython"
      ]
    },
    {
      "cell_type": "code",
      "source": [
        "import Bio"
      ],
      "metadata": {
        "id": "JnpxiJdgsZO1"
      },
      "execution_count": null,
      "outputs": []
    },
    {
      "cell_type": "markdown",
      "source": [
        "## 1. Buat sekuens sederhana dari kedua DNA"
      ],
      "metadata": {
        "id": "_x8Os9utswWO"
      }
    },
    {
      "cell_type": "code",
      "source": [
        "from Bio.Seq import Seq"
      ],
      "metadata": {
        "id": "AxsZlF2Ksrbc"
      },
      "execution_count": null,
      "outputs": []
    },
    {
      "cell_type": "code",
      "source": [
        "generic_dna1 = 'ATGATCTCGTAA'\n",
        "generic_dna2 = 'ATTAAAGGTTTATACCTTCCCAGGTAACAAACCAACCAA'"
      ],
      "metadata": {
        "id": "DwjY4L_4230U"
      },
      "execution_count": null,
      "outputs": []
    },
    {
      "cell_type": "code",
      "source": [
        "# Simple DNA sequence\n",
        "\n",
        "seq_1 = Seq(generic_dna1)\n",
        "seq_2 = Seq(generic_dna2)\n",
        "\n",
        "print(type(seq_1))\n",
        "print(\"Seq 1:\", seq_1)\n",
        "\n",
        "print(type(seq_2))\n",
        "print(\"Seq 2:\", seq_2)"
      ],
      "metadata": {
        "colab": {
          "base_uri": "https://localhost:8080/"
        },
        "id": "dcrFqPINs4kV",
        "outputId": "2593ff80-5a5e-4046-ac99-100290721347"
      },
      "execution_count": null,
      "outputs": [
        {
          "output_type": "stream",
          "name": "stdout",
          "text": [
            "<class 'Bio.Seq.Seq'>\n",
            "Seq 1: ATGATCTCGTAA\n",
            "<class 'Bio.Seq.Seq'>\n",
            "Seq 2: ATTAAAGGTTTATACCTTCCCAGGTAACAAACCAACCAA\n"
          ]
        }
      ]
    },
    {
      "cell_type": "code",
      "source": [
        "print(\"Seq 1 panjangnya\",len(seq_1),\"nukleotida\")\n",
        "print(\"Seq 2 panjangnya\",len(seq_2),\"nukleotida\")"
      ],
      "metadata": {
        "colab": {
          "base_uri": "https://localhost:8080/"
        },
        "id": "0TU7drEmNL-Z",
        "outputId": "211f4a77-6021-435a-acdb-9de1afe15539"
      },
      "execution_count": null,
      "outputs": [
        {
          "output_type": "stream",
          "name": "stdout",
          "text": [
            "Seq 1 panjangnya 12 nukleotida\n",
            "Seq 2 panjangnya 39 nukleotida\n"
          ]
        }
      ]
    },
    {
      "cell_type": "markdown",
      "source": [
        "## 2.\tFrekuensi setiap Basa/ Nukeotida pada kedua sekuens"
      ],
      "metadata": {
        "id": "e3yHaBgWtyZ0"
      }
    },
    {
      "cell_type": "code",
      "source": [
        "from collections import Counter"
      ],
      "metadata": {
        "id": "s6MOSc2ruDz9"
      },
      "execution_count": null,
      "outputs": []
    },
    {
      "cell_type": "code",
      "source": [
        "# Frequency of Nucleotides in each sequence\n",
        "\n",
        "freq_1 = Counter(seq_1)\n",
        "freq_2 = Counter(seq_2)\n",
        "\n",
        "print(\"Seq 1:\", freq_1)\n",
        "print(\"Seq 2:\", freq_2)"
      ],
      "metadata": {
        "colab": {
          "base_uri": "https://localhost:8080/"
        },
        "id": "93fuJGP8uKud",
        "outputId": "eede34be-3607-442c-ebbd-93cb68fa858b"
      },
      "execution_count": null,
      "outputs": [
        {
          "output_type": "stream",
          "name": "stdout",
          "text": [
            "Seq 1: Counter({'A': 4, 'T': 4, 'G': 2, 'C': 2})\n",
            "Seq 2: Counter({'A': 16, 'C': 10, 'T': 9, 'G': 4})\n"
          ]
        }
      ]
    },
    {
      "cell_type": "markdown",
      "source": [
        "## 3.\tKandungan GC, kandungan AT, dan titik leleh kedua sekuens DNA"
      ],
      "metadata": {
        "id": "bP6yj3EKxeU-"
      }
    },
    {
      "cell_type": "code",
      "source": [
        "# kandungan GC\n",
        "\n",
        "def gc_content(seq):\n",
        "    result = float(seq.count('G') + seq.count('C'))/len(seq) * 100\n",
        "    return round(result,2)"
      ],
      "metadata": {
        "id": "LdvZLHZ7xqQO"
      },
      "execution_count": null,
      "outputs": []
    },
    {
      "cell_type": "code",
      "source": [
        "# kandungan AT\n",
        "\n",
        "def at_content(seq):\n",
        "    result = float(seq.count('A') + seq.count('T'))/len(seq) * 100\n",
        "    return round(result,2)"
      ],
      "metadata": {
        "id": "UdJN4xJFx8Lk"
      },
      "execution_count": null,
      "outputs": []
    },
    {
      "cell_type": "code",
      "source": [
        "import Bio.SeqUtils"
      ],
      "metadata": {
        "id": "J60YmorKyFKU"
      },
      "execution_count": null,
      "outputs": []
    },
    {
      "cell_type": "code",
      "source": [
        "from Bio.SeqUtils import MeltingTemp as mt"
      ],
      "metadata": {
        "id": "99BF6_46yRje"
      },
      "execution_count": null,
      "outputs": []
    },
    {
      "cell_type": "code",
      "source": [
        "def get_metrics(seq):\n",
        "    gc = gc_content(seq)\n",
        "    at = at_content(seq)\n",
        "    melting = round(mt.Tm_GC(seq),2)\n",
        "    result = print('Kandungan GC: {}% \\nKandungan AT: {}% \\nTitik Leleh: {}'.format(gc,at,melting))\n",
        "    return result"
      ],
      "metadata": {
        "id": "32oSeFwLymk2"
      },
      "execution_count": null,
      "outputs": []
    },
    {
      "cell_type": "code",
      "source": [
        "print(\"Seq 1\")\n",
        "get_metrics(seq_1)"
      ],
      "metadata": {
        "colab": {
          "base_uri": "https://localhost:8080/"
        },
        "id": "FcPbofBpy7nV",
        "outputId": "f8e171fe-af3e-45c0-f9cc-d22b94620ead"
      },
      "execution_count": null,
      "outputs": [
        {
          "output_type": "stream",
          "name": "stdout",
          "text": [
            "Seq 1\n",
            "Kandungan GC: 33.33% \n",
            "Kandungan AT: 66.67% \n",
            "Titik Leleh: 23.57\n"
          ]
        }
      ]
    },
    {
      "cell_type": "code",
      "source": [
        "print(\"Seq 2\")\n",
        "get_metrics(seq_2)"
      ],
      "metadata": {
        "colab": {
          "base_uri": "https://localhost:8080/"
        },
        "id": "jp9mIQu9072Q",
        "outputId": "0074708b-ca22-465b-bdc6-982722305dcb"
      },
      "execution_count": null,
      "outputs": [
        {
          "output_type": "stream",
          "name": "stdout",
          "text": [
            "Seq 2\n",
            "Kandungan GC: 35.9% \n",
            "Kandungan AT: 64.1% \n",
            "Titik Leleh: 59.24\n"
          ]
        }
      ]
    },
    {
      "cell_type": "markdown",
      "source": [
        "## 4. Berat Molekul"
      ],
      "metadata": {
        "id": "1TjjE6dC12BO"
      }
    },
    {
      "cell_type": "code",
      "source": [
        "from Bio.SeqUtils import molecular_weight as mw"
      ],
      "metadata": {
        "id": "xLVU04QW159W"
      },
      "execution_count": null,
      "outputs": []
    },
    {
      "cell_type": "code",
      "source": [
        "# Berat Molekul\n",
        "\n",
        "print(\"Berat Molekul Seq 1:\", round(mw(seq_1),2))\n",
        "print(\"Berat Molekul Seq 2:\", round(mw(seq_2),2))"
      ],
      "metadata": {
        "colab": {
          "base_uri": "https://localhost:8080/"
        },
        "id": "LC1VfIds2YYn",
        "outputId": "6ca95d9f-ee5a-4248-c7f7-939537b4fecc"
      },
      "execution_count": null,
      "outputs": [
        {
          "output_type": "stream",
          "name": "stdout",
          "text": [
            "Berat Molekul Seq 1: 3724.39\n",
            "Berat Molekul Seq 2: 11975.7\n"
          ]
        }
      ]
    },
    {
      "cell_type": "markdown",
      "source": [
        "## 5. Local Alignment, Global Alignment, Similarity Percentage"
      ],
      "metadata": {
        "id": "0RLt_9WBXPaC"
      }
    },
    {
      "cell_type": "code",
      "source": [
        "from Bio import pairwise2\n",
        "from Bio.pairwise2 import format_alignment"
      ],
      "metadata": {
        "colab": {
          "base_uri": "https://localhost:8080/"
        },
        "id": "5k4aqV5rXiCj",
        "outputId": "4ab161e4-568e-49c5-aea7-d1ffc5129931"
      },
      "execution_count": null,
      "outputs": [
        {
          "output_type": "stream",
          "name": "stderr",
          "text": [
            "/usr/local/lib/python3.8/dist-packages/Bio/pairwise2.py:278: BiopythonDeprecationWarning: Bio.pairwise2 has been deprecated, and we intend to remove it in a future release of Biopython. As an alternative, please consider using Bio.Align.PairwiseAligner as a replacement, and contact the Biopython developers if you still need the Bio.pairwise2 module.\n",
            "  warnings.warn(\n"
          ]
        }
      ]
    },
    {
      "cell_type": "code",
      "source": [
        "# Global Alignment\n",
        "\n",
        "alignment = pairwise2.align.globalxx(seq_1,seq_2)\n",
        "\n",
        "for a in alignment:\n",
        "  print(format_alignment(*a))"
      ],
      "metadata": {
        "colab": {
          "base_uri": "https://localhost:8080/"
        },
        "id": "dl88dk98XjmU",
        "outputId": "befe94d2-9299-431d-d68a-dbabdb6451bf"
      },
      "execution_count": null,
      "outputs": [
        {
          "output_type": "stream",
          "name": "stdout",
          "text": [
            "AT----G----AT-C-T-C---G-TAA------------\n",
            "||    |    || | | |   | |||            \n",
            "ATTAAAGGTTTATACCTTCCCAGGTAACAAACCAACCAA\n",
            "  Score=12\n",
            "\n",
            "A-T---G----AT-C-T-C---G-TAA------------\n",
            "| |   |    || | | |   | |||            \n",
            "ATTAAAGGTTTATACCTTCCCAGGTAACAAACCAACCAA\n",
            "  Score=12\n",
            "\n",
            "AT-----G---AT-C-T-C---G-TAA------------\n",
            "||     |   || | | |   | |||            \n",
            "ATTAAAGGTTTATACCTTCCCAGGTAACAAACCAACCAA\n",
            "  Score=12\n",
            "\n",
            "A-T----G---AT-C-T-C---G-TAA------------\n",
            "| |    |   || | | |   | |||            \n",
            "ATTAAAGGTTTATACCTTCCCAGGTAACAAACCAACCAA\n",
            "  Score=12\n",
            "\n",
            "AT----G----AT--CT-C---G-TAA------------\n",
            "||    |    ||  || |   | |||            \n",
            "ATTAAAGGTTTATACCTTCCCAGGTAACAAACCAACCAA\n",
            "  Score=12\n",
            "\n",
            "A-T---G----AT--CT-C---G-TAA------------\n",
            "| |   |    ||  || |   | |||            \n",
            "ATTAAAGGTTTATACCTTCCCAGGTAACAAACCAACCAA\n",
            "  Score=12\n",
            "\n",
            "AT-----G---AT--CT-C---G-TAA------------\n",
            "||     |   ||  || |   | |||            \n",
            "ATTAAAGGTTTATACCTTCCCAGGTAACAAACCAACCAA\n",
            "  Score=12\n",
            "\n",
            "A-T----G---AT--CT-C---G-TAA------------\n",
            "| |    |   ||  || |   | |||            \n",
            "ATTAAAGGTTTATACCTTCCCAGGTAACAAACCAACCAA\n",
            "  Score=12\n",
            "\n",
            "AT----G----AT-C--TC---G-TAA------------\n",
            "||    |    || |  ||   | |||            \n",
            "ATTAAAGGTTTATACCTTCCCAGGTAACAAACCAACCAA\n",
            "  Score=12\n",
            "\n",
            "A-T---G----AT-C--TC---G-TAA------------\n",
            "| |   |    || |  ||   | |||            \n",
            "ATTAAAGGTTTATACCTTCCCAGGTAACAAACCAACCAA\n",
            "  Score=12\n",
            "\n",
            "AT-----G---AT-C--TC---G-TAA------------\n",
            "||     |   || |  ||   | |||            \n",
            "ATTAAAGGTTTATACCTTCCCAGGTAACAAACCAACCAA\n",
            "  Score=12\n",
            "\n",
            "A-T----G---AT-C--TC---G-TAA------------\n",
            "| |    |   || |  ||   | |||            \n",
            "ATTAAAGGTTTATACCTTCCCAGGTAACAAACCAACCAA\n",
            "  Score=12\n",
            "\n",
            "AT----G----AT--C-TC---G-TAA------------\n",
            "||    |    ||  | ||   | |||            \n",
            "ATTAAAGGTTTATACCTTCCCAGGTAACAAACCAACCAA\n",
            "  Score=12\n",
            "\n",
            "A-T---G----AT--C-TC---G-TAA------------\n",
            "| |   |    ||  | ||   | |||            \n",
            "ATTAAAGGTTTATACCTTCCCAGGTAACAAACCAACCAA\n",
            "  Score=12\n",
            "\n",
            "AT-----G---AT--C-TC---G-TAA------------\n",
            "||     |   ||  | ||   | |||            \n",
            "ATTAAAGGTTTATACCTTCCCAGGTAACAAACCAACCAA\n",
            "  Score=12\n",
            "\n",
            "A-T----G---AT--C-TC---G-TAA------------\n",
            "| |    |   ||  | ||   | |||            \n",
            "ATTAAAGGTTTATACCTTCCCAGGTAACAAACCAACCAA\n",
            "  Score=12\n",
            "\n"
          ]
        }
      ]
    },
    {
      "cell_type": "code",
      "source": [
        "# Get the global alignment by only the score\n",
        "\n",
        "alignment2 = pairwise2.align.globalxx(seq_1,seq_2,one_alignment_only=True,score_only=True)\n",
        "alignment2"
      ],
      "metadata": {
        "colab": {
          "base_uri": "https://localhost:8080/"
        },
        "id": "lrUA2RFrYpH-",
        "outputId": "5709d46a-b215-4642-d9a6-b5f5eb5b094a"
      },
      "execution_count": null,
      "outputs": [
        {
          "output_type": "execute_result",
          "data": {
            "text/plain": [
              "12.0"
            ]
          },
          "metadata": {},
          "execution_count": 20
        }
      ]
    },
    {
      "cell_type": "code",
      "source": [
        "# Local Alignment\n",
        "\n",
        "loc_alignment = pairwise2.align.localxx(seq_1,seq_2)\n",
        "\n",
        "for a in loc_alignment:\n",
        "  print(format_alignment(*a))"
      ],
      "metadata": {
        "colab": {
          "base_uri": "https://localhost:8080/"
        },
        "id": "0MZE8RVTZJcr",
        "outputId": "e2d079e7-903d-47c9-d456-844612b63ce0"
      },
      "execution_count": null,
      "outputs": [
        {
          "output_type": "stream",
          "name": "stdout",
          "text": [
            "AT----G----AT-C-T-C---G-TA------------A\n",
            "||    |    || | | |   | ||            |\n",
            "ATTAAAGGTTTATACCTTCCCAGGTAACAAACCAACCAA\n",
            "  Score=12\n",
            "\n",
            "A-T---G----AT-C-T-C---G-TA------------A\n",
            "| |   |    || | | |   | ||            |\n",
            "ATTAAAGGTTTATACCTTCCCAGGTAACAAACCAACCAA\n",
            "  Score=12\n",
            "\n",
            "AT-----G---AT-C-T-C---G-TA------------A\n",
            "||     |   || | | |   | ||            |\n",
            "ATTAAAGGTTTATACCTTCCCAGGTAACAAACCAACCAA\n",
            "  Score=12\n",
            "\n",
            "A-T----G---AT-C-T-C---G-TA------------A\n",
            "| |    |   || | | |   | ||            |\n",
            "ATTAAAGGTTTATACCTTCCCAGGTAACAAACCAACCAA\n",
            "  Score=12\n",
            "\n",
            "AT----G----AT--CT-C---G-TA------------A\n",
            "||    |    ||  || |   | ||            |\n",
            "ATTAAAGGTTTATACCTTCCCAGGTAACAAACCAACCAA\n",
            "  Score=12\n",
            "\n",
            "A-T---G----AT--CT-C---G-TA------------A\n",
            "| |   |    ||  || |   | ||            |\n",
            "ATTAAAGGTTTATACCTTCCCAGGTAACAAACCAACCAA\n",
            "  Score=12\n",
            "\n",
            "AT-----G---AT--CT-C---G-TA------------A\n",
            "||     |   ||  || |   | ||            |\n",
            "ATTAAAGGTTTATACCTTCCCAGGTAACAAACCAACCAA\n",
            "  Score=12\n",
            "\n",
            "A-T----G---AT--CT-C---G-TA------------A\n",
            "| |    |   ||  || |   | ||            |\n",
            "ATTAAAGGTTTATACCTTCCCAGGTAACAAACCAACCAA\n",
            "  Score=12\n",
            "\n",
            "AT----G----AT-C--TC---G-TA------------A\n",
            "||    |    || |  ||   | ||            |\n",
            "ATTAAAGGTTTATACCTTCCCAGGTAACAAACCAACCAA\n",
            "  Score=12\n",
            "\n",
            "A-T---G----AT-C--TC---G-TA------------A\n",
            "| |   |    || |  ||   | ||            |\n",
            "ATTAAAGGTTTATACCTTCCCAGGTAACAAACCAACCAA\n",
            "  Score=12\n",
            "\n",
            "AT-----G---AT-C--TC---G-TA------------A\n",
            "||     |   || |  ||   | ||            |\n",
            "ATTAAAGGTTTATACCTTCCCAGGTAACAAACCAACCAA\n",
            "  Score=12\n",
            "\n",
            "A-T----G---AT-C--TC---G-TA------------A\n",
            "| |    |   || |  ||   | ||            |\n",
            "ATTAAAGGTTTATACCTTCCCAGGTAACAAACCAACCAA\n",
            "  Score=12\n",
            "\n",
            "AT----G----AT--C-TC---G-TA------------A\n",
            "||    |    ||  | ||   | ||            |\n",
            "ATTAAAGGTTTATACCTTCCCAGGTAACAAACCAACCAA\n",
            "  Score=12\n",
            "\n",
            "A-T---G----AT--C-TC---G-TA------------A\n",
            "| |   |    ||  | ||   | ||            |\n",
            "ATTAAAGGTTTATACCTTCCCAGGTAACAAACCAACCAA\n",
            "  Score=12\n",
            "\n",
            "AT-----G---AT--C-TC---G-TA------------A\n",
            "||     |   ||  | ||   | ||            |\n",
            "ATTAAAGGTTTATACCTTCCCAGGTAACAAACCAACCAA\n",
            "  Score=12\n",
            "\n",
            "A-T----G---AT--C-TC---G-TA------------A\n",
            "| |    |   ||  | ||   | ||            |\n",
            "ATTAAAGGTTTATACCTTCCCAGGTAACAAACCAACCAA\n",
            "  Score=12\n",
            "\n"
          ]
        }
      ]
    },
    {
      "cell_type": "code",
      "source": [
        "# Get the local alignment by only the score\n",
        "\n",
        "loc_alignment2 = pairwise2.align.localxx(seq_1,seq_2,one_alignment_only=True,score_only=True)\n",
        "loc_alignment2"
      ],
      "metadata": {
        "colab": {
          "base_uri": "https://localhost:8080/"
        },
        "id": "xyLZv28yZvNF",
        "outputId": "0a0daa2e-3b83-476b-e72c-23ed7cfc12af"
      },
      "execution_count": null,
      "outputs": [
        {
          "output_type": "execute_result",
          "data": {
            "text/plain": [
              "12.0"
            ]
          },
          "metadata": {},
          "execution_count": 22
        }
      ]
    },
    {
      "cell_type": "code",
      "source": [
        "print(\"Global alignment memiliki\",len(alignment),\"kemungkinan\")\n",
        "print(\"Local alignment memiliki\",len(loc_alignment),\"kemungkinan\")"
      ],
      "metadata": {
        "colab": {
          "base_uri": "https://localhost:8080/"
        },
        "id": "KAIKswmHPRrZ",
        "outputId": "a492c1c0-5f83-463e-f8d7-33b111211821"
      },
      "execution_count": null,
      "outputs": [
        {
          "output_type": "stream",
          "name": "stdout",
          "text": [
            "Global alignment memiliki 16 kemungkinan\n",
            "Local alignment memiliki 16 kemungkinan\n"
          ]
        }
      ]
    },
    {
      "cell_type": "markdown",
      "source": [
        "#### Check for similarity or percentage of similarity using Alignment\n",
        "+ fraction of nucleotides that is the same/ total number of nucleotides * 100%"
      ],
      "metadata": {
        "id": "ZkKAnLf-Z_Jr"
      }
    },
    {
      "cell_type": "code",
      "source": [
        "# similarity percentage of global and local alignment\n",
        "\n",
        "print(\"Global Alignment:\",round(alignment2/len(seq_2)*100,2),\"% similar\")\n",
        "print(\"Local Alignment:\",round(loc_alignment2/len(seq_2)*100,2),\"% similar\")"
      ],
      "metadata": {
        "colab": {
          "base_uri": "https://localhost:8080/"
        },
        "id": "Aau3CWYtaAt8",
        "outputId": "e45a2606-5263-478b-bf90-88f59639391c"
      },
      "execution_count": null,
      "outputs": [
        {
          "output_type": "stream",
          "name": "stdout",
          "text": [
            "Global Alignment: 30.77 % similar\n",
            "Local Alignment: 30.77 % similar\n"
          ]
        }
      ]
    },
    {
      "cell_type": "markdown",
      "source": [
        "## 6. Kemungkinan Global Alignment dengan Skor Tertinggi"
      ],
      "metadata": {
        "id": "wP2SL2QHbQE1"
      }
    },
    {
      "cell_type": "markdown",
      "source": [
        "#### Find out all the possible global alignments with the maximum similarity score\n",
        "+ Matching characters :2 points, \n",
        "+ Each mismatching character: -1 point\n",
        "+ 0.5 points are deducted when opening a gap, \n",
        "+ 0.1 points are deducted when extending it."
      ],
      "metadata": {
        "id": "lDUi2XW8bmcV"
      }
    },
    {
      "cell_type": "code",
      "source": [
        "# Global alignment with max sim\n",
        "glb_alignment = pairwise2.align.globalms(seq_1,seq_2,2,-1,-0.5,-0.1)\n",
        "\n",
        "for a in glb_alignment:\n",
        "    print(format_alignment(*a))"
      ],
      "metadata": {
        "colab": {
          "base_uri": "https://localhost:8080/"
        },
        "id": "DMQiO4sUboGX",
        "outputId": "ca52a161-891c-4149-8207-7a8add63001e"
      },
      "execution_count": null,
      "outputs": [
        {
          "output_type": "stream",
          "name": "stdout",
          "text": [
            "AT----G----AT--CT-C----GT------------AA\n",
            "||    |    ||  || |    ||            ||\n",
            "ATTAAAGGTTTATACCTTCCCAGGTAACAAACCAACCAA\n",
            "  Score=18.9\n",
            "\n",
            "AT-----G---AT--CT-C----GT------------AA\n",
            "||     |   ||  || |    ||            ||\n",
            "ATTAAAGGTTTATACCTTCCCAGGTAACAAACCAACCAA\n",
            "  Score=18.9\n",
            "\n",
            "AT----G----AT--C-TC----GT------------AA\n",
            "||    |    ||  | ||    ||            ||\n",
            "ATTAAAGGTTTATACCTTCCCAGGTAACAAACCAACCAA\n",
            "  Score=18.9\n",
            "\n",
            "AT-----G---AT--C-TC----GT------------AA\n",
            "||     |   ||  | ||    ||            ||\n",
            "ATTAAAGGTTTATACCTTCCCAGGTAACAAACCAACCAA\n",
            "  Score=18.9\n",
            "\n",
            "AT----G----AT-C--TC----GT------------AA\n",
            "||    |    || |  ||    ||            ||\n",
            "ATTAAAGGTTTATACCTTCCCAGGTAACAAACCAACCAA\n",
            "  Score=18.9\n",
            "\n",
            "AT-----G---AT-C--TC----GT------------AA\n",
            "||     |   || |  ||    ||            ||\n",
            "ATTAAAGGTTTATACCTTCCCAGGTAACAAACCAACCAA\n",
            "  Score=18.9\n",
            "\n",
            "AT----G----AT--CT--C---GT------------AA\n",
            "||    |    ||  ||  |   ||            ||\n",
            "ATTAAAGGTTTATACCTTCCCAGGTAACAAACCAACCAA\n",
            "  Score=18.9\n",
            "\n",
            "AT-----G---AT--CT--C---GT------------AA\n",
            "||     |   ||  ||  |   ||            ||\n",
            "ATTAAAGGTTTATACCTTCCCAGGTAACAAACCAACCAA\n",
            "  Score=18.9\n",
            "\n",
            "AT----G----AT--CT---C--GT------------AA\n",
            "||    |    ||  ||   |  ||            ||\n",
            "ATTAAAGGTTTATACCTTCCCAGGTAACAAACCAACCAA\n",
            "  Score=18.9\n",
            "\n",
            "AT-----G---AT--CT---C--GT------------AA\n",
            "||     |   ||  ||   |  ||            ||\n",
            "ATTAAAGGTTTATACCTTCCCAGGTAACAAACCAACCAA\n",
            "  Score=18.9\n",
            "\n",
            "AT----G----AT--CT-C----GTA------------A\n",
            "||    |    ||  || |    |||            |\n",
            "ATTAAAGGTTTATACCTTCCCAGGTAACAAACCAACCAA\n",
            "  Score=18.9\n",
            "\n",
            "AT-----G---AT--CT-C----GTA------------A\n",
            "||     |   ||  || |    |||            |\n",
            "ATTAAAGGTTTATACCTTCCCAGGTAACAAACCAACCAA\n",
            "  Score=18.9\n",
            "\n",
            "AT----G----AT--C-TC----GTA------------A\n",
            "||    |    ||  | ||    |||            |\n",
            "ATTAAAGGTTTATACCTTCCCAGGTAACAAACCAACCAA\n",
            "  Score=18.9\n",
            "\n",
            "AT-----G---AT--C-TC----GTA------------A\n",
            "||     |   ||  | ||    |||            |\n",
            "ATTAAAGGTTTATACCTTCCCAGGTAACAAACCAACCAA\n",
            "  Score=18.9\n",
            "\n",
            "AT----G----AT-C--TC----GTA------------A\n",
            "||    |    || |  ||    |||            |\n",
            "ATTAAAGGTTTATACCTTCCCAGGTAACAAACCAACCAA\n",
            "  Score=18.9\n",
            "\n",
            "AT-----G---AT-C--TC----GTA------------A\n",
            "||     |   || |  ||    |||            |\n",
            "ATTAAAGGTTTATACCTTCCCAGGTAACAAACCAACCAA\n",
            "  Score=18.9\n",
            "\n",
            "AT----G----AT--CT--C---GTA------------A\n",
            "||    |    ||  ||  |   |||            |\n",
            "ATTAAAGGTTTATACCTTCCCAGGTAACAAACCAACCAA\n",
            "  Score=18.9\n",
            "\n",
            "AT-----G---AT--CT--C---GTA------------A\n",
            "||     |   ||  ||  |   |||            |\n",
            "ATTAAAGGTTTATACCTTCCCAGGTAACAAACCAACCAA\n",
            "  Score=18.9\n",
            "\n",
            "AT----G----AT--CT---C--GTA------------A\n",
            "||    |    ||  ||   |  |||            |\n",
            "ATTAAAGGTTTATACCTTCCCAGGTAACAAACCAACCAA\n",
            "  Score=18.9\n",
            "\n",
            "AT-----G---AT--CT---C--GTA------------A\n",
            "||     |   ||  ||   |  |||            |\n",
            "ATTAAAGGTTTATACCTTCCCAGGTAACAAACCAACCAA\n",
            "  Score=18.9\n",
            "\n",
            "AT----G----AT--CT-C----GTAA------------\n",
            "||    |    ||  || |    ||||            \n",
            "ATTAAAGGTTTATACCTTCCCAGGTAACAAACCAACCAA\n",
            "  Score=18.9\n",
            "\n",
            "AT-----G---AT--CT-C----GTAA------------\n",
            "||     |   ||  || |    ||||            \n",
            "ATTAAAGGTTTATACCTTCCCAGGTAACAAACCAACCAA\n",
            "  Score=18.9\n",
            "\n",
            "AT----G----AT--C-TC----GTAA------------\n",
            "||    |    ||  | ||    ||||            \n",
            "ATTAAAGGTTTATACCTTCCCAGGTAACAAACCAACCAA\n",
            "  Score=18.9\n",
            "\n",
            "AT-----G---AT--C-TC----GTAA------------\n",
            "||     |   ||  | ||    ||||            \n",
            "ATTAAAGGTTTATACCTTCCCAGGTAACAAACCAACCAA\n",
            "  Score=18.9\n",
            "\n",
            "AT----G----AT-C--TC----GTAA------------\n",
            "||    |    || |  ||    ||||            \n",
            "ATTAAAGGTTTATACCTTCCCAGGTAACAAACCAACCAA\n",
            "  Score=18.9\n",
            "\n",
            "AT-----G---AT-C--TC----GTAA------------\n",
            "||     |   || |  ||    ||||            \n",
            "ATTAAAGGTTTATACCTTCCCAGGTAACAAACCAACCAA\n",
            "  Score=18.9\n",
            "\n",
            "AT----G----AT--CT--C---GTAA------------\n",
            "||    |    ||  ||  |   ||||            \n",
            "ATTAAAGGTTTATACCTTCCCAGGTAACAAACCAACCAA\n",
            "  Score=18.9\n",
            "\n",
            "AT-----G---AT--CT--C---GTAA------------\n",
            "||     |   ||  ||  |   ||||            \n",
            "ATTAAAGGTTTATACCTTCCCAGGTAACAAACCAACCAA\n",
            "  Score=18.9\n",
            "\n",
            "AT----G----AT--CT---C--GTAA------------\n",
            "||    |    ||  ||   |  ||||            \n",
            "ATTAAAGGTTTATACCTTCCCAGGTAACAAACCAACCAA\n",
            "  Score=18.9\n",
            "\n",
            "AT-----G---AT--CT---C--GTAA------------\n",
            "||     |   ||  ||   |  ||||            \n",
            "ATTAAAGGTTTATACCTTCCCAGGTAACAAACCAACCAA\n",
            "  Score=18.9\n",
            "\n"
          ]
        }
      ]
    },
    {
      "cell_type": "code",
      "source": [
        "AvB = pairwise2.align.globalms(seq_1,seq_2,2,-1,-0.5,-0.1,one_alignment_only=True,score_only=True)\n",
        "BvA = pairwise2.align.globalms(seq_2,seq_1,2,-1,-0.5,-0.1,one_alignment_only=True,score_only=True)\n",
        "\n",
        "print(\"Seq A\",round(AvB/len(seq_2)*100,2),\"% similar with Seq B\")"
      ],
      "metadata": {
        "colab": {
          "base_uri": "https://localhost:8080/"
        },
        "id": "MsnwcjCLcPiE",
        "outputId": "7d6a92bf-1dbc-406e-efff-f2300e3d3d78"
      },
      "execution_count": null,
      "outputs": [
        {
          "output_type": "stream",
          "name": "stdout",
          "text": [
            "Seq A 48.46 % similar with Seq B\n"
          ]
        }
      ]
    },
    {
      "cell_type": "code",
      "source": [
        "print(\"Global alignment memiliki\",len(alignment),\"kemungkinan\")\n",
        "print(\"Global Alignment dengan skor tertinggi memiliki\",len(glb_alignment),\"kemungkinan\")"
      ],
      "metadata": {
        "colab": {
          "base_uri": "https://localhost:8080/"
        },
        "id": "PCk21CqRQS2q",
        "outputId": "56c87374-4bd5-4b24-b2ce-971b29d01c71"
      },
      "execution_count": null,
      "outputs": [
        {
          "output_type": "stream",
          "name": "stdout",
          "text": [
            "Global alignment memiliki 16 kemungkinan\n",
            "Global Alignment dengan skor tertinggi memiliki 30 kemungkinan\n"
          ]
        }
      ]
    },
    {
      "cell_type": "markdown",
      "source": [
        "## 7. Sequence Alignment dengan Dot Plot"
      ],
      "metadata": {
        "id": "fdCD5CkI4HKO"
      }
    },
    {
      "cell_type": "code",
      "source": [
        "import matplotlib.pyplot as plt\n",
        "import numpy as np"
      ],
      "metadata": {
        "id": "95VRXTJC6Wmt"
      },
      "execution_count": null,
      "outputs": []
    },
    {
      "cell_type": "code",
      "source": [
        "# dotplot function\n",
        "\n",
        "def delta(x,y):\n",
        "    return 0 if x == y else 1\n",
        "\n",
        "\n",
        "def M(seq1,seq2,i,j,k):\n",
        "    return sum(delta(x,y) for x,y in zip(seq1[i:i+k],seq2[j:j+k]))\n",
        "\n",
        "\n",
        "def makeMatrix(seq1,seq2,k):\n",
        "    n = len(seq1)\n",
        "    m = len(seq2)\n",
        "    return [[M(seq1,seq2,i,j,k) for j in range(m-k+1)] for i in range(n-k+1)]\n",
        "\n",
        "\n",
        "def plotMatrix(M,t, seq1, seq2, nonblank = chr(0x25A0), blank = ' '):\n",
        "    print(' |' + seq2)\n",
        "    print('-'*(2 + len(seq2)))\n",
        "    for label,row in zip(seq1,M):\n",
        "        line = ''.join(nonblank if s < t else blank for s in row)\n",
        "        print(label + '|' + line)\n",
        "\n",
        "\n",
        "def dotplot(seq1,seq2,k = 1,t = 1):\n",
        "    M = makeMatrix(seq1,seq2,k)\n",
        "    plotMatrix(M, t, seq1,seq2) #experiment with character choice\n",
        "\n",
        "\n",
        "def dotplotx(seq1,seq2):\n",
        "    plt.imshow(np.array(makeMatrix(seq1,seq2,1)))\n",
        "    xt=plt.xticks(np.arange(len(list(seq2))),list(seq2))\n",
        "    yt=plt.yticks(np.arange(len(list(seq1))),list(seq1))\n",
        "    plt.show()     "
      ],
      "metadata": {
        "id": "DhWR8Knn6Xhi"
      },
      "execution_count": null,
      "outputs": []
    },
    {
      "cell_type": "code",
      "source": [
        "# Identical show diagonal\n",
        "\n",
        "dotplotx(seq_1,seq_1)"
      ],
      "metadata": {
        "colab": {
          "base_uri": "https://localhost:8080/",
          "height": 265
        },
        "id": "4qpMsWEK66aN",
        "outputId": "02296101-cd40-4843-ec56-476087163a41"
      },
      "execution_count": null,
      "outputs": [
        {
          "output_type": "display_data",
          "data": {
            "text/plain": [
              "<Figure size 432x288 with 1 Axes>"
            ],
            "image/png": "[encoded data removed]"
          },
          "metadata": {
            "needs_background": "light"
          }
        }
      ]
    },
    {
      "cell_type": "code",
      "source": [
        "# Identical show diagonal\n",
        "\n",
        "plt.figure(figsize=(15, 15))\n",
        "dotplotx(seq_2,seq_2)"
      ],
      "metadata": {
        "colab": {
          "base_uri": "https://localhost:8080/",
          "height": 863
        },
        "id": "yUwEEugt7KnG",
        "outputId": "93a941c9-8332-4b83-946f-103a3f1be123"
      },
      "execution_count": null,
      "outputs": [
        {
          "output_type": "display_data",
          "data": {
            "text/plain": [
              "<Figure size 1080x1080 with 1 Axes>"
            ],
            "image/png": "[encoded data removed]"
          },
          "metadata": {
            "needs_background": "light"
          }
        }
      ]
    },
    {
      "cell_type": "code",
      "source": [
        "plt.figure(figsize=(15, 15))\n",
        "dotplotx(seq_1,seq_2)"
      ],
      "metadata": {
        "colab": {
          "base_uri": "https://localhost:8080/",
          "height": 305
        },
        "id": "OOrCmTvt7RTN",
        "outputId": "aaa2737a-6a3f-4bad-c8c3-f1817d041207"
      },
      "execution_count": null,
      "outputs": [
        {
          "output_type": "display_data",
          "data": {
            "text/plain": [
              "<Figure size 1080x1080 with 1 Axes>"
            ],
            "image/png": "[encoded data removed]"
          },
          "metadata": {
            "needs_background": "light"
          }
        }
      ]
    }
  ]
}
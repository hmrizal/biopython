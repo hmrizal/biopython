{
  "nbformat": 4,
  "nbformat_minor": 0,
  "metadata": {
    "colab": {
      "provenance": [],
      "authorship_tag": "ABX9TyOdu/msDd1XI1MZlwn6g2PH",
      "include_colab_link": true
    },
    "kernelspec": {
      "name": "python3",
      "display_name": "Python 3"
    },
    "language_info": {
      "name": "python"
    }
  },
  "cells": [
    {
      "cell_type": "markdown",
      "metadata": {
        "id": "view-in-github",
        "colab_type": "text"
      },
      "source": [
        "<a href=\"https://colab.research.google.com/github/hmrizal/biopython/blob/main/uas_no5_2502058490.ipynb\" target=\"_parent\"><img src=\"https://colab.research.google.com/assets/colab-badge.svg\" alt=\"Open In Colab\"/></a>"
      ]
    },
    {
      "cell_type": "markdown",
      "source": [
        "# UAS - Computational Physics and Biology\n",
        "\n",
        "# Helmi M. R. - 2502058490"
      ],
      "metadata": {
        "id": "3JajXb6TngTb"
      }
    },
    {
      "cell_type": "markdown",
      "source": [
        "## 5. Lakukan analisis sederhana menggunakan BioPython untuk menjawab pertanyaan - pertanyaan berikut :\n",
        "\n",
        "## Apabila anda diberikan dua sekuen DNA sebagai berikut\n",
        "## DNA 1 : ACTCGGCTGCATGCTTAGTGCACTCACGCAGTATAATTAATA <br>\n",
        "## DNA 2 : CTGCAGTGCAACTATATT\n"
      ],
      "metadata": {
        "id": "jSaNM4Kznsqd"
      }
    },
    {
      "cell_type": "code",
      "execution_count": null,
      "metadata": {
        "colab": {
          "base_uri": "https://localhost:8080/"
        },
        "id": "wIJris29neqH",
        "outputId": "8524d3b4-5dc4-4324-8b75-2f282d8e67c7"
      },
      "outputs": [
        {
          "output_type": "stream",
          "name": "stdout",
          "text": [
            "Looking in indexes: https://pypi.org/simple, https://us-python.pkg.dev/colab-wheels/public/simple/\n",
            "Collecting biopython\n",
            "  Downloading biopython-1.81-cp38-cp38-manylinux_2_17_x86_64.manylinux2014_x86_64.whl (3.1 MB)\n",
            "\u001b[2K     \u001b[90m━━━━━━━━━━━━━━━━━━━━━━━━━━━━━━━━━━━━━━━━\u001b[0m \u001b[32m3.1/3.1 MB\u001b[0m \u001b[31m27.4 MB/s\u001b[0m eta \u001b[36m0:00:00\u001b[0m\n",
            "\u001b[?25hRequirement already satisfied: numpy in /usr/local/lib/python3.8/dist-packages (from biopython) (1.21.6)\n",
            "Installing collected packages: biopython\n",
            "Successfully installed biopython-1.81\n"
          ]
        }
      ],
      "source": [
        "!pip install biopython"
      ]
    },
    {
      "cell_type": "code",
      "source": [
        "import Bio"
      ],
      "metadata": {
        "id": "jKh3W5s-qRWz"
      },
      "execution_count": null,
      "outputs": []
    },
    {
      "cell_type": "code",
      "source": [
        "from Bio.Seq import Seq"
      ],
      "metadata": {
        "id": "u2rLq3gOqUuq"
      },
      "execution_count": null,
      "outputs": []
    },
    {
      "cell_type": "code",
      "source": [
        "dna_1 = 'ACTCGGCTGCATGCTTAGTGCACTCACGCAGTATAATTAATA'\n",
        "dna_2 = 'CTGCAGTGCAACTATATT'"
      ],
      "metadata": {
        "id": "XfvdDSo3rB1T"
      },
      "execution_count": null,
      "outputs": []
    },
    {
      "cell_type": "code",
      "source": [
        "# Simple DNA sequence\n",
        "\n",
        "dna1 = Seq(dna_1)\n",
        "dna2 = Seq(dna_2)\n",
        "\n",
        "print(\"DNA 1:\", dna1)\n",
        "print(\"DNA 2:\", dna2)"
      ],
      "metadata": {
        "colab": {
          "base_uri": "https://localhost:8080/"
        },
        "id": "HoyOQ5VKrMM0",
        "outputId": "1b507043-a839-4af7-a378-b1672279bcb8"
      },
      "execution_count": null,
      "outputs": [
        {
          "output_type": "stream",
          "name": "stdout",
          "text": [
            "DNA 1: ACTCGGCTGCATGCTTAGTGCACTCACGCAGTATAATTAATA\n",
            "DNA 2: CTGCAGTGCAACTATATT\n"
          ]
        }
      ]
    },
    {
      "cell_type": "markdown",
      "source": [
        "## a.\tLakukan analisa sekuen sederhana untuk menetukan panjang sekuens, distribusi nukleotida, temperatur leleh, dan berat molekul."
      ],
      "metadata": {
        "id": "wFATILFory2O"
      }
    },
    {
      "cell_type": "code",
      "source": [
        "from collections import Counter"
      ],
      "metadata": {
        "id": "pDysdkXxs8PW"
      },
      "execution_count": null,
      "outputs": []
    },
    {
      "cell_type": "code",
      "source": [
        "import Bio.SeqUtils"
      ],
      "metadata": {
        "id": "D1ukwnjVtM9l"
      },
      "execution_count": null,
      "outputs": []
    },
    {
      "cell_type": "code",
      "source": [
        "from Bio.SeqUtils import MeltingTemp as mt\n",
        "from Bio.SeqUtils import molecular_weight as mw"
      ],
      "metadata": {
        "id": "zsD6HzDKtQu9"
      },
      "execution_count": null,
      "outputs": []
    },
    {
      "cell_type": "code",
      "source": [
        "# Fungsi untuk menjawab soal 5a.\n",
        "\n",
        "def metrics(dna):\n",
        "    # panjang sekuens\n",
        "    length = len(dna)\n",
        "    # sebaran nukleotida\n",
        "    freq = Counter(dna)\n",
        "    # temperatur leleh\n",
        "    melt = round(mt.Tm_GC(dna),2)\n",
        "    # berat molekul\n",
        "    weight = round(mw(dna),2)\n",
        "    result = print('Panjang: {} nukleotida \\nSebaran nukleotida: {} \\nTemperatur Leleh: {} \\nBerat Molekul: {}'.format(length,freq,melt,weight))\n",
        "    return result"
      ],
      "metadata": {
        "id": "FzsFVQ9utaNV"
      },
      "execution_count": null,
      "outputs": []
    },
    {
      "cell_type": "code",
      "source": [
        "print(\"DNA 1\")\n",
        "metrics(dna1)"
      ],
      "metadata": {
        "colab": {
          "base_uri": "https://localhost:8080/"
        },
        "id": "dfz_R2S6vD1v",
        "outputId": "fd5be732-1212-48d0-b3d8-47a05ddcfd3e"
      },
      "execution_count": null,
      "outputs": [
        {
          "output_type": "stream",
          "name": "stdout",
          "text": [
            "DNA 1\n",
            "Panjang: 42 nukleotida \n",
            "Sebaran nukleotida: Counter({'A': 12, 'T': 12, 'C': 10, 'G': 8}) \n",
            "Temperatur Leleh: 63.19 \n",
            "Berat Molekul: 12952.28\n"
          ]
        }
      ]
    },
    {
      "cell_type": "code",
      "source": [
        "print(\"DNA 2\")\n",
        "metrics(dna2)"
      ],
      "metadata": {
        "colab": {
          "base_uri": "https://localhost:8080/"
        },
        "id": "BbryWsi5ve-N",
        "outputId": "e62d600b-770c-4f72-e724-987e8db82b5f"
      },
      "execution_count": null,
      "outputs": [
        {
          "output_type": "stream",
          "name": "stdout",
          "text": [
            "DNA 2\n",
            "Panjang: 18 nukleotida \n",
            "Sebaran nukleotida: Counter({'T': 6, 'A': 5, 'C': 4, 'G': 3}) \n",
            "Temperatur Leleh: 42.51 \n",
            "Berat Molekul: 5553.55\n"
          ]
        }
      ]
    },
    {
      "cell_type": "markdown",
      "source": [
        "## b.\tBerdasarkan persentase kandungan G-C dan T-A dalam setiap sekuens DNA diatas, sekuens mana yang memiliki stabilitas lebih tinggi? Mengapa?"
      ],
      "metadata": {
        "id": "bftT0aqUvjBV"
      }
    },
    {
      "cell_type": "code",
      "source": [
        "# kandungan GC\n",
        "\n",
        "def gc_content(dna):\n",
        "    result = float(dna.count('G') + dna.count('C'))/len(dna) * 100\n",
        "    return round(result,2)"
      ],
      "metadata": {
        "id": "YpuBH95Jvzm1"
      },
      "execution_count": null,
      "outputs": []
    },
    {
      "cell_type": "code",
      "source": [
        "# kandungan TA\n",
        "\n",
        "def ta_content(dna):\n",
        "    result = float(dna.count('T') + dna.count('A'))/len(dna) * 100\n",
        "    return round(result,2)"
      ],
      "metadata": {
        "id": "9R1zJvlRv7pt"
      },
      "execution_count": null,
      "outputs": []
    },
    {
      "cell_type": "code",
      "source": [
        "def contents(dna):\n",
        "    gc = gc_content(dna)\n",
        "    ta = ta_content(dna)\n",
        "    result = print('Kandungan GC: {}% \\nKandungan TA: {}%'.format(gc,ta))\n",
        "    return result"
      ],
      "metadata": {
        "id": "Stkr87nYwKdd"
      },
      "execution_count": null,
      "outputs": []
    },
    {
      "cell_type": "code",
      "source": [
        "print(\"DNA 1\")\n",
        "contents(dna1)"
      ],
      "metadata": {
        "colab": {
          "base_uri": "https://localhost:8080/"
        },
        "id": "4U805HDBwXf1",
        "outputId": "83d6c281-fe67-4004-94ba-196b49eb6437"
      },
      "execution_count": null,
      "outputs": [
        {
          "output_type": "stream",
          "name": "stdout",
          "text": [
            "DNA 1\n",
            "Kandungan GC: 42.86% \n",
            "Kandungan TA: 57.14%\n"
          ]
        }
      ]
    },
    {
      "cell_type": "code",
      "source": [
        "print(\"DNA 2\")\n",
        "contents(dna2)"
      ],
      "metadata": {
        "colab": {
          "base_uri": "https://localhost:8080/"
        },
        "id": "ukKBHOFBwdut",
        "outputId": "24b01737-46b0-4b08-b03e-3b40c048eede"
      },
      "execution_count": null,
      "outputs": [
        {
          "output_type": "stream",
          "name": "stdout",
          "text": [
            "DNA 2\n",
            "Kandungan GC: 38.89% \n",
            "Kandungan TA: 61.11%\n"
          ]
        }
      ]
    },
    {
      "cell_type": "markdown",
      "source": [
        "#### DNA 1 memiliki stabilitas lebih tinggi daripada DNA 2, karena DNA 1 memiliki kandungan G-C yang lebih tinggi daripada DNA 2. Pasangan basa G-C memiliki 3 ikatan hydrogen, sedangkan pasangan basa T-A hanya memiliki 2 ikatan hydrogen, sehingga pasangan basa G-C memiliki ikatan yang lebih kuat dan stabil daripada pasangan basa T-A."
      ],
      "metadata": {
        "id": "bIv4Wd4_rYBe"
      }
    },
    {
      "cell_type": "markdown",
      "source": [
        "## c.\tApa teknik *sequence alignment* (penjajaran barisan) yang baik untuk menjajarkan sekuens DNA 2 ke sekuens DNA 1?"
      ],
      "metadata": {
        "id": "2cnx6hTwwtus"
      }
    },
    {
      "cell_type": "code",
      "source": [
        "from Bio import pairwise2\n",
        "from Bio.pairwise2 import format_alignment"
      ],
      "metadata": {
        "colab": {
          "base_uri": "https://localhost:8080/"
        },
        "id": "LAwcyff9x64O",
        "outputId": "83a31e71-14fb-4545-c532-e5b657a2c7d6"
      },
      "execution_count": null,
      "outputs": [
        {
          "output_type": "stream",
          "name": "stderr",
          "text": [
            "/usr/local/lib/python3.8/dist-packages/Bio/pairwise2.py:278: BiopythonDeprecationWarning: Bio.pairwise2 has been deprecated, and we intend to remove it in a future release of Biopython. As an alternative, please consider using Bio.Align.PairwiseAligner as a replacement, and contact the Biopython developers if you still need the Bio.pairwise2 module.\n",
            "  warnings.warn(\n"
          ]
        }
      ]
    },
    {
      "cell_type": "markdown",
      "source": [
        "### Global alignment"
      ],
      "metadata": {
        "id": "A-Qs7O56yCIv"
      }
    },
    {
      "cell_type": "code",
      "source": [
        "# Get the global alignment and the score\n",
        "\n",
        "alignment = pairwise2.align.globalxx(dna2,dna1)\n",
        "alignment2 = pairwise2.align.globalxx(dna2,dna1,one_alignment_only=True,score_only=True)\n",
        "\n",
        "# similarity\n",
        "\n",
        "sim = round(alignment2/len(dna1)*100,2)"
      ],
      "metadata": {
        "id": "xtHus1yfyJD8"
      },
      "execution_count": null,
      "outputs": []
    },
    {
      "cell_type": "code",
      "source": [
        "print(\"Global alignment\")\n",
        "print(\"{} kemungkinan\\nSkor = {}\\nSimilarity = {}%\".format(len(alignment),alignment2,sim))"
      ],
      "metadata": {
        "colab": {
          "base_uri": "https://localhost:8080/"
        },
        "id": "Ddvhm8a8yKL0",
        "outputId": "c27ed90b-ac9a-407f-8aa8-89a36b3c5984"
      },
      "execution_count": null,
      "outputs": [
        {
          "output_type": "stream",
          "name": "stdout",
          "text": [
            "Global alignment\n",
            "40 kemungkinan\n",
            "Skor = 18.0\n",
            "Similarity = 42.86%\n"
          ]
        }
      ]
    },
    {
      "cell_type": "code",
      "source": [
        "# salah satu contoh global alignment\n",
        "\n",
        "print(format_alignment(*alignment[0]))"
      ],
      "metadata": {
        "colab": {
          "base_uri": "https://localhost:8080/"
        },
        "id": "obR8vhGP8mPh",
        "outputId": "71413484-2d2c-4e6a-ee5c-d97a5df63644"
      },
      "execution_count": null,
      "outputs": [
        {
          "output_type": "stream",
          "name": "stdout",
          "text": [
            "-CT-G-C---A-G-T--G--CA---AC----TATA-TT----\n",
            " || | |   | | |  |  ||   ||    |||| ||    \n",
            "ACTCGGCTGCATGCTTAGTGCACTCACGCAGTATAATTAATA\n",
            "  Score=18\n",
            "\n"
          ]
        }
      ]
    },
    {
      "cell_type": "code",
      "source": [
        "# semua kemungkinan global alignment\n",
        "\n",
        "for a in alignment:\n",
        "  print(format_alignment(*a))"
      ],
      "metadata": {
        "colab": {
          "base_uri": "https://localhost:8080/"
        },
        "id": "5SZ_LAXFyVaN",
        "outputId": "586416ca-c5e1-47b9-fe4e-d7070956a261"
      },
      "execution_count": null,
      "outputs": [
        {
          "output_type": "stream",
          "name": "stdout",
          "text": [
            "-CT-G-C---A-G-T--G--CA---AC----TATA-TT----\n",
            " || | |   | | |  |  ||   ||    |||| ||    \n",
            "ACTCGGCTGCATGCTTAGTGCACTCACGCAGTATAATTAATA\n",
            "  Score=18\n",
            "\n",
            "-CT--GC---A-G-T--G--CA---AC----TATA-TT----\n",
            " ||  ||   | | |  |  ||   ||    |||| ||    \n",
            "ACTCGGCTGCATGCTTAGTGCACTCACGCAGTATAATTAATA\n",
            "  Score=18\n",
            "\n",
            "-CT-G----CA-G-T--G--CA---AC----TATA-TT----\n",
            " || |    || | |  |  ||   ||    |||| ||    \n",
            "ACTCGGCTGCATGCTTAGTGCACTCACGCAGTATAATTAATA\n",
            "  Score=18\n",
            "\n",
            "-CT--G---CA-G-T--G--CA---AC----TATA-TT----\n",
            " ||  |   || | |  |  ||   ||    |||| ||    \n",
            "ACTCGGCTGCATGCTTAGTGCACTCACGCAGTATAATTAATA\n",
            "  Score=18\n",
            "\n",
            "-CT-----GCA-G-T--G--CA---AC----TATA-TT----\n",
            " ||     ||| | |  |  ||   ||    |||| ||    \n",
            "ACTCGGCTGCATGCTTAGTGCACTCACGCAGTATAATTAATA\n",
            "  Score=18\n",
            "\n",
            "-C-----TGCA-G-T--G--CA---AC----TATA-TT----\n",
            " |     |||| | |  |  ||   ||    |||| ||    \n",
            "ACTCGGCTGCATGCTTAGTGCACTCACGCAGTATAATTAATA\n",
            "  Score=18\n",
            "\n",
            "---C---TGCA-G-T--G--CA---AC----TATA-TT----\n",
            "   |   |||| | |  |  ||   ||    |||| ||    \n",
            "ACTCGGCTGCATGCTTAGTGCACTCACGCAGTATAATTAATA\n",
            "  Score=18\n",
            "\n",
            "------CTGCA-G-T--G--CA---AC----TATA-TT----\n",
            "      ||||| | |  |  ||   ||    |||| ||    \n",
            "ACTCGGCTGCATGCTTAGTGCACTCACGCAGTATAATTAATA\n",
            "  Score=18\n",
            "\n",
            "-CT-G-C---A-G--T-G--CA---AC----TATA-TT----\n",
            " || | |   | |  | |  ||   ||    |||| ||    \n",
            "ACTCGGCTGCATGCTTAGTGCACTCACGCAGTATAATTAATA\n",
            "  Score=18\n",
            "\n",
            "-CT--GC---A-G--T-G--CA---AC----TATA-TT----\n",
            " ||  ||   | |  | |  ||   ||    |||| ||    \n",
            "ACTCGGCTGCATGCTTAGTGCACTCACGCAGTATAATTAATA\n",
            "  Score=18\n",
            "\n",
            "-CT-G----CA-G--T-G--CA---AC----TATA-TT----\n",
            " || |    || |  | |  ||   ||    |||| ||    \n",
            "ACTCGGCTGCATGCTTAGTGCACTCACGCAGTATAATTAATA\n",
            "  Score=18\n",
            "\n",
            "-CT--G---CA-G--T-G--CA---AC----TATA-TT----\n",
            " ||  |   || |  | |  ||   ||    |||| ||    \n",
            "ACTCGGCTGCATGCTTAGTGCACTCACGCAGTATAATTAATA\n",
            "  Score=18\n",
            "\n",
            "-CT-----GCA-G--T-G--CA---AC----TATA-TT----\n",
            " ||     ||| |  | |  ||   ||    |||| ||    \n",
            "ACTCGGCTGCATGCTTAGTGCACTCACGCAGTATAATTAATA\n",
            "  Score=18\n",
            "\n",
            "-C-----TGCA-G--T-G--CA---AC----TATA-TT----\n",
            " |     |||| |  | |  ||   ||    |||| ||    \n",
            "ACTCGGCTGCATGCTTAGTGCACTCACGCAGTATAATTAATA\n",
            "  Score=18\n",
            "\n",
            "---C---TGCA-G--T-G--CA---AC----TATA-TT----\n",
            "   |   |||| |  | |  ||   ||    |||| ||    \n",
            "ACTCGGCTGCATGCTTAGTGCACTCACGCAGTATAATTAATA\n",
            "  Score=18\n",
            "\n",
            "------CTGCA-G--T-G--CA---AC----TATA-TT----\n",
            "      ||||| |  | |  ||   ||    |||| ||    \n",
            "ACTCGGCTGCATGCTTAGTGCACTCACGCAGTATAATTAATA\n",
            "  Score=18\n",
            "\n",
            "-CT-G-C---A-G-T----GCA---AC----TATA-TT----\n",
            " || | |   | | |    |||   ||    |||| ||    \n",
            "ACTCGGCTGCATGCTTAGTGCACTCACGCAGTATAATTAATA\n",
            "  Score=18\n",
            "\n",
            "-CT--GC---A-G-T----GCA---AC----TATA-TT----\n",
            " ||  ||   | | |    |||   ||    |||| ||    \n",
            "ACTCGGCTGCATGCTTAGTGCACTCACGCAGTATAATTAATA\n",
            "  Score=18\n",
            "\n",
            "-CT-G----CA-G-T----GCA---AC----TATA-TT----\n",
            " || |    || | |    |||   ||    |||| ||    \n",
            "ACTCGGCTGCATGCTTAGTGCACTCACGCAGTATAATTAATA\n",
            "  Score=18\n",
            "\n",
            "-CT--G---CA-G-T----GCA---AC----TATA-TT----\n",
            " ||  |   || | |    |||   ||    |||| ||    \n",
            "ACTCGGCTGCATGCTTAGTGCACTCACGCAGTATAATTAATA\n",
            "  Score=18\n",
            "\n",
            "-CT-----GCA-G-T----GCA---AC----TATA-TT----\n",
            " ||     ||| | |    |||   ||    |||| ||    \n",
            "ACTCGGCTGCATGCTTAGTGCACTCACGCAGTATAATTAATA\n",
            "  Score=18\n",
            "\n",
            "-C-----TGCA-G-T----GCA---AC----TATA-TT----\n",
            " |     |||| | |    |||   ||    |||| ||    \n",
            "ACTCGGCTGCATGCTTAGTGCACTCACGCAGTATAATTAATA\n",
            "  Score=18\n",
            "\n",
            "---C---TGCA-G-T----GCA---AC----TATA-TT----\n",
            "   |   |||| | |    |||   ||    |||| ||    \n",
            "ACTCGGCTGCATGCTTAGTGCACTCACGCAGTATAATTAATA\n",
            "  Score=18\n",
            "\n",
            "------CTGCA-G-T----GCA---AC----TATA-TT----\n",
            "      ||||| | |    |||   ||    |||| ||    \n",
            "ACTCGGCTGCATGCTTAGTGCACTCACGCAGTATAATTAATA\n",
            "  Score=18\n",
            "\n",
            "-CT-G-C---A-G--T---GCA---AC----TATA-TT----\n",
            " || | |   | |  |   |||   ||    |||| ||    \n",
            "ACTCGGCTGCATGCTTAGTGCACTCACGCAGTATAATTAATA\n",
            "  Score=18\n",
            "\n",
            "-CT--GC---A-G--T---GCA---AC----TATA-TT----\n",
            " ||  ||   | |  |   |||   ||    |||| ||    \n",
            "ACTCGGCTGCATGCTTAGTGCACTCACGCAGTATAATTAATA\n",
            "  Score=18\n",
            "\n",
            "-CT-G----CA-G--T---GCA---AC----TATA-TT----\n",
            " || |    || |  |   |||   ||    |||| ||    \n",
            "ACTCGGCTGCATGCTTAGTGCACTCACGCAGTATAATTAATA\n",
            "  Score=18\n",
            "\n",
            "-CT--G---CA-G--T---GCA---AC----TATA-TT----\n",
            " ||  |   || |  |   |||   ||    |||| ||    \n",
            "ACTCGGCTGCATGCTTAGTGCACTCACGCAGTATAATTAATA\n",
            "  Score=18\n",
            "\n",
            "-CT-----GCA-G--T---GCA---AC----TATA-TT----\n",
            " ||     ||| |  |   |||   ||    |||| ||    \n",
            "ACTCGGCTGCATGCTTAGTGCACTCACGCAGTATAATTAATA\n",
            "  Score=18\n",
            "\n",
            "-C-----TGCA-G--T---GCA---AC----TATA-TT----\n",
            " |     |||| |  |   |||   ||    |||| ||    \n",
            "ACTCGGCTGCATGCTTAGTGCACTCACGCAGTATAATTAATA\n",
            "  Score=18\n",
            "\n",
            "---C---TGCA-G--T---GCA---AC----TATA-TT----\n",
            "   |   |||| |  |   |||   ||    |||| ||    \n",
            "ACTCGGCTGCATGCTTAGTGCACTCACGCAGTATAATTAATA\n",
            "  Score=18\n",
            "\n",
            "------CTGCA-G--T---GCA---AC----TATA-TT----\n",
            "      ||||| |  |   |||   ||    |||| ||    \n",
            "ACTCGGCTGCATGCTTAGTGCACTCACGCAGTATAATTAATA\n",
            "  Score=18\n",
            "\n",
            "-CT-G-C---A-G-----TGCA---AC----TATA-TT----\n",
            " || | |   | |     ||||   ||    |||| ||    \n",
            "ACTCGGCTGCATGCTTAGTGCACTCACGCAGTATAATTAATA\n",
            "  Score=18\n",
            "\n",
            "-CT--GC---A-G-----TGCA---AC----TATA-TT----\n",
            " ||  ||   | |     ||||   ||    |||| ||    \n",
            "ACTCGGCTGCATGCTTAGTGCACTCACGCAGTATAATTAATA\n",
            "  Score=18\n",
            "\n",
            "-CT-G----CA-G-----TGCA---AC----TATA-TT----\n",
            " || |    || |     ||||   ||    |||| ||    \n",
            "ACTCGGCTGCATGCTTAGTGCACTCACGCAGTATAATTAATA\n",
            "  Score=18\n",
            "\n",
            "-CT--G---CA-G-----TGCA---AC----TATA-TT----\n",
            " ||  |   || |     ||||   ||    |||| ||    \n",
            "ACTCGGCTGCATGCTTAGTGCACTCACGCAGTATAATTAATA\n",
            "  Score=18\n",
            "\n",
            "-CT-----GCA-G-----TGCA---AC----TATA-TT----\n",
            " ||     ||| |     ||||   ||    |||| ||    \n",
            "ACTCGGCTGCATGCTTAGTGCACTCACGCAGTATAATTAATA\n",
            "  Score=18\n",
            "\n",
            "-C-----TGCA-G-----TGCA---AC----TATA-TT----\n",
            " |     |||| |     ||||   ||    |||| ||    \n",
            "ACTCGGCTGCATGCTTAGTGCACTCACGCAGTATAATTAATA\n",
            "  Score=18\n",
            "\n",
            "---C---TGCA-G-----TGCA---AC----TATA-TT----\n",
            "   |   |||| |     ||||   ||    |||| ||    \n",
            "ACTCGGCTGCATGCTTAGTGCACTCACGCAGTATAATTAATA\n",
            "  Score=18\n",
            "\n",
            "------CTGCA-G-----TGCA---AC----TATA-TT----\n",
            "      ||||| |     ||||   ||    |||| ||    \n",
            "ACTCGGCTGCATGCTTAGTGCACTCACGCAGTATAATTAATA\n",
            "  Score=18\n",
            "\n"
          ]
        }
      ]
    },
    {
      "cell_type": "markdown",
      "source": [
        "### Local alignment"
      ],
      "metadata": {
        "id": "z6XL-Ikmyem9"
      }
    },
    {
      "cell_type": "code",
      "source": [
        "# Get the local alignment and the score\n",
        "\n",
        "loc_alignment = pairwise2.align.localxx(dna2,dna1)\n",
        "loc_alignment2 = pairwise2.align.localxx(dna2,dna1,one_alignment_only=True,score_only=True)\n",
        "\n",
        "# similarity\n",
        "\n",
        "loc_sim = round(loc_alignment2/len(dna1)*100,2)"
      ],
      "metadata": {
        "id": "0YK79QmMypGG"
      },
      "execution_count": null,
      "outputs": []
    },
    {
      "cell_type": "code",
      "source": [
        "print(\"Local alignment\")\n",
        "print(\"{} kemungkinan\\nSkor = {}\\nSimilarity = {}%\".format(len(loc_alignment),loc_alignment2,loc_sim))"
      ],
      "metadata": {
        "colab": {
          "base_uri": "https://localhost:8080/"
        },
        "id": "6j_ALKzsy0jm",
        "outputId": "923e5abb-3b4d-4624-a8e3-81e08e79d14f"
      },
      "execution_count": null,
      "outputs": [
        {
          "output_type": "stream",
          "name": "stdout",
          "text": [
            "Local alignment\n",
            "40 kemungkinan\n",
            "Skor = 18.0\n",
            "Similarity = 42.86%\n"
          ]
        }
      ]
    },
    {
      "cell_type": "code",
      "source": [
        "# salah satu contoh local alignment\n",
        "\n",
        "print(format_alignment(*loc_alignment[0]))"
      ],
      "metadata": {
        "colab": {
          "base_uri": "https://localhost:8080/"
        },
        "id": "TGZL0RcD9CwA",
        "outputId": "44423f06-2d0c-4c76-d09c-0deaa6b5ce03"
      },
      "execution_count": null,
      "outputs": [
        {
          "output_type": "stream",
          "name": "stdout",
          "text": [
            "1 CT-G-C---A-G-T--G--CA---AC----TATA-T---T\n",
            "  || | |   | | |  |  ||   ||    |||| |   |\n",
            "2 CTCGGCTGCATGCTTAGTGCACTCACGCAGTATAATTAAT\n",
            "  Score=18\n",
            "\n"
          ]
        }
      ]
    },
    {
      "cell_type": "code",
      "source": [
        "# semua kemungkinan local alignment\n",
        "\n",
        "for a in loc_alignment:\n",
        "  print(format_alignment(*a))"
      ],
      "metadata": {
        "colab": {
          "base_uri": "https://localhost:8080/"
        },
        "id": "05zyOeIEy7RW",
        "outputId": "ef747ca5-b05f-4c78-ea85-ac6685c24012"
      },
      "execution_count": null,
      "outputs": [
        {
          "output_type": "stream",
          "name": "stdout",
          "text": [
            "1 CT-G-C---A-G-T--G--CA---AC----TATA-T---T\n",
            "  || | |   | | |  |  ||   ||    |||| |   |\n",
            "2 CTCGGCTGCATGCTTAGTGCACTCACGCAGTATAATTAAT\n",
            "  Score=18\n",
            "\n",
            "1 CT--GC---A-G-T--G--CA---AC----TATA-T---T\n",
            "  ||  ||   | | |  |  ||   ||    |||| |   |\n",
            "2 CTCGGCTGCATGCTTAGTGCACTCACGCAGTATAATTAAT\n",
            "  Score=18\n",
            "\n",
            "1 CT-G----CA-G-T--G--CA---AC----TATA-T---T\n",
            "  || |    || | |  |  ||   ||    |||| |   |\n",
            "2 CTCGGCTGCATGCTTAGTGCACTCACGCAGTATAATTAAT\n",
            "  Score=18\n",
            "\n",
            "1 CT--G---CA-G-T--G--CA---AC----TATA-T---T\n",
            "  ||  |   || | |  |  ||   ||    |||| |   |\n",
            "2 CTCGGCTGCATGCTTAGTGCACTCACGCAGTATAATTAAT\n",
            "  Score=18\n",
            "\n",
            "1 CT-----GCA-G-T--G--CA---AC----TATA-T---T\n",
            "  ||     ||| | |  |  ||   ||    |||| |   |\n",
            "2 CTCGGCTGCATGCTTAGTGCACTCACGCAGTATAATTAAT\n",
            "  Score=18\n",
            "\n",
            "1 C-----TGCA-G-T--G--CA---AC----TATA-T---T\n",
            "  |     |||| | |  |  ||   ||    |||| |   |\n",
            "2 CTCGGCTGCATGCTTAGTGCACTCACGCAGTATAATTAAT\n",
            "  Score=18\n",
            "\n",
            "1 C---TGCA-G-T--G--CA---AC----TATA-T---T\n",
            "  |   |||| | |  |  ||   ||    |||| |   |\n",
            "4 CGGCTGCATGCTTAGTGCACTCACGCAGTATAATTAAT\n",
            "  Score=18\n",
            "\n",
            "1 CTGCA-G-T--G--CA---AC----TATA-T---T\n",
            "  ||||| | |  |  ||   ||    |||| |   |\n",
            "7 CTGCATGCTTAGTGCACTCACGCAGTATAATTAAT\n",
            "  Score=18\n",
            "\n",
            "1 CT-G-C---A-G--T-G--CA---AC----TATA-T---T\n",
            "  || | |   | |  | |  ||   ||    |||| |   |\n",
            "2 CTCGGCTGCATGCTTAGTGCACTCACGCAGTATAATTAAT\n",
            "  Score=18\n",
            "\n",
            "1 CT--GC---A-G--T-G--CA---AC----TATA-T---T\n",
            "  ||  ||   | |  | |  ||   ||    |||| |   |\n",
            "2 CTCGGCTGCATGCTTAGTGCACTCACGCAGTATAATTAAT\n",
            "  Score=18\n",
            "\n",
            "1 CT-G----CA-G--T-G--CA---AC----TATA-T---T\n",
            "  || |    || |  | |  ||   ||    |||| |   |\n",
            "2 CTCGGCTGCATGCTTAGTGCACTCACGCAGTATAATTAAT\n",
            "  Score=18\n",
            "\n",
            "1 CT--G---CA-G--T-G--CA---AC----TATA-T---T\n",
            "  ||  |   || |  | |  ||   ||    |||| |   |\n",
            "2 CTCGGCTGCATGCTTAGTGCACTCACGCAGTATAATTAAT\n",
            "  Score=18\n",
            "\n",
            "1 CT-----GCA-G--T-G--CA---AC----TATA-T---T\n",
            "  ||     ||| |  | |  ||   ||    |||| |   |\n",
            "2 CTCGGCTGCATGCTTAGTGCACTCACGCAGTATAATTAAT\n",
            "  Score=18\n",
            "\n",
            "1 C-----TGCA-G--T-G--CA---AC----TATA-T---T\n",
            "  |     |||| |  | |  ||   ||    |||| |   |\n",
            "2 CTCGGCTGCATGCTTAGTGCACTCACGCAGTATAATTAAT\n",
            "  Score=18\n",
            "\n",
            "1 C---TGCA-G--T-G--CA---AC----TATA-T---T\n",
            "  |   |||| |  | |  ||   ||    |||| |   |\n",
            "4 CGGCTGCATGCTTAGTGCACTCACGCAGTATAATTAAT\n",
            "  Score=18\n",
            "\n",
            "1 CTGCA-G--T-G--CA---AC----TATA-T---T\n",
            "  ||||| |  | |  ||   ||    |||| |   |\n",
            "7 CTGCATGCTTAGTGCACTCACGCAGTATAATTAAT\n",
            "  Score=18\n",
            "\n",
            "1 CT-G-C---A-G-T----GCA---AC----TATA-T---T\n",
            "  || | |   | | |    |||   ||    |||| |   |\n",
            "2 CTCGGCTGCATGCTTAGTGCACTCACGCAGTATAATTAAT\n",
            "  Score=18\n",
            "\n",
            "1 CT--GC---A-G-T----GCA---AC----TATA-T---T\n",
            "  ||  ||   | | |    |||   ||    |||| |   |\n",
            "2 CTCGGCTGCATGCTTAGTGCACTCACGCAGTATAATTAAT\n",
            "  Score=18\n",
            "\n",
            "1 CT-G----CA-G-T----GCA---AC----TATA-T---T\n",
            "  || |    || | |    |||   ||    |||| |   |\n",
            "2 CTCGGCTGCATGCTTAGTGCACTCACGCAGTATAATTAAT\n",
            "  Score=18\n",
            "\n",
            "1 CT--G---CA-G-T----GCA---AC----TATA-T---T\n",
            "  ||  |   || | |    |||   ||    |||| |   |\n",
            "2 CTCGGCTGCATGCTTAGTGCACTCACGCAGTATAATTAAT\n",
            "  Score=18\n",
            "\n",
            "1 CT-----GCA-G-T----GCA---AC----TATA-T---T\n",
            "  ||     ||| | |    |||   ||    |||| |   |\n",
            "2 CTCGGCTGCATGCTTAGTGCACTCACGCAGTATAATTAAT\n",
            "  Score=18\n",
            "\n",
            "1 C-----TGCA-G-T----GCA---AC----TATA-T---T\n",
            "  |     |||| | |    |||   ||    |||| |   |\n",
            "2 CTCGGCTGCATGCTTAGTGCACTCACGCAGTATAATTAAT\n",
            "  Score=18\n",
            "\n",
            "1 C---TGCA-G-T----GCA---AC----TATA-T---T\n",
            "  |   |||| | |    |||   ||    |||| |   |\n",
            "4 CGGCTGCATGCTTAGTGCACTCACGCAGTATAATTAAT\n",
            "  Score=18\n",
            "\n",
            "1 CTGCA-G-T----GCA---AC----TATA-T---T\n",
            "  ||||| | |    |||   ||    |||| |   |\n",
            "7 CTGCATGCTTAGTGCACTCACGCAGTATAATTAAT\n",
            "  Score=18\n",
            "\n",
            "1 CT-G-C---A-G--T---GCA---AC----TATA-T---T\n",
            "  || | |   | |  |   |||   ||    |||| |   |\n",
            "2 CTCGGCTGCATGCTTAGTGCACTCACGCAGTATAATTAAT\n",
            "  Score=18\n",
            "\n",
            "1 CT--GC---A-G--T---GCA---AC----TATA-T---T\n",
            "  ||  ||   | |  |   |||   ||    |||| |   |\n",
            "2 CTCGGCTGCATGCTTAGTGCACTCACGCAGTATAATTAAT\n",
            "  Score=18\n",
            "\n",
            "1 CT-G----CA-G--T---GCA---AC----TATA-T---T\n",
            "  || |    || |  |   |||   ||    |||| |   |\n",
            "2 CTCGGCTGCATGCTTAGTGCACTCACGCAGTATAATTAAT\n",
            "  Score=18\n",
            "\n",
            "1 CT--G---CA-G--T---GCA---AC----TATA-T---T\n",
            "  ||  |   || |  |   |||   ||    |||| |   |\n",
            "2 CTCGGCTGCATGCTTAGTGCACTCACGCAGTATAATTAAT\n",
            "  Score=18\n",
            "\n",
            "1 CT-----GCA-G--T---GCA---AC----TATA-T---T\n",
            "  ||     ||| |  |   |||   ||    |||| |   |\n",
            "2 CTCGGCTGCATGCTTAGTGCACTCACGCAGTATAATTAAT\n",
            "  Score=18\n",
            "\n",
            "1 C-----TGCA-G--T---GCA---AC----TATA-T---T\n",
            "  |     |||| |  |   |||   ||    |||| |   |\n",
            "2 CTCGGCTGCATGCTTAGTGCACTCACGCAGTATAATTAAT\n",
            "  Score=18\n",
            "\n",
            "1 C---TGCA-G--T---GCA---AC----TATA-T---T\n",
            "  |   |||| |  |   |||   ||    |||| |   |\n",
            "4 CGGCTGCATGCTTAGTGCACTCACGCAGTATAATTAAT\n",
            "  Score=18\n",
            "\n",
            "1 CTGCA-G--T---GCA---AC----TATA-T---T\n",
            "  ||||| |  |   |||   ||    |||| |   |\n",
            "7 CTGCATGCTTAGTGCACTCACGCAGTATAATTAAT\n",
            "  Score=18\n",
            "\n",
            "1 CT-G-C---A-G-----TGCA---AC----TATA-T---T\n",
            "  || | |   | |     ||||   ||    |||| |   |\n",
            "2 CTCGGCTGCATGCTTAGTGCACTCACGCAGTATAATTAAT\n",
            "  Score=18\n",
            "\n",
            "1 CT--GC---A-G-----TGCA---AC----TATA-T---T\n",
            "  ||  ||   | |     ||||   ||    |||| |   |\n",
            "2 CTCGGCTGCATGCTTAGTGCACTCACGCAGTATAATTAAT\n",
            "  Score=18\n",
            "\n",
            "1 CT-G----CA-G-----TGCA---AC----TATA-T---T\n",
            "  || |    || |     ||||   ||    |||| |   |\n",
            "2 CTCGGCTGCATGCTTAGTGCACTCACGCAGTATAATTAAT\n",
            "  Score=18\n",
            "\n",
            "1 CT--G---CA-G-----TGCA---AC----TATA-T---T\n",
            "  ||  |   || |     ||||   ||    |||| |   |\n",
            "2 CTCGGCTGCATGCTTAGTGCACTCACGCAGTATAATTAAT\n",
            "  Score=18\n",
            "\n",
            "1 CT-----GCA-G-----TGCA---AC----TATA-T---T\n",
            "  ||     ||| |     ||||   ||    |||| |   |\n",
            "2 CTCGGCTGCATGCTTAGTGCACTCACGCAGTATAATTAAT\n",
            "  Score=18\n",
            "\n",
            "1 C-----TGCA-G-----TGCA---AC----TATA-T---T\n",
            "  |     |||| |     ||||   ||    |||| |   |\n",
            "2 CTCGGCTGCATGCTTAGTGCACTCACGCAGTATAATTAAT\n",
            "  Score=18\n",
            "\n",
            "1 C---TGCA-G-----TGCA---AC----TATA-T---T\n",
            "  |   |||| |     ||||   ||    |||| |   |\n",
            "4 CGGCTGCATGCTTAGTGCACTCACGCAGTATAATTAAT\n",
            "  Score=18\n",
            "\n",
            "1 CTGCA-G-----TGCA---AC----TATA-T---T\n",
            "  ||||| |     ||||   ||    |||| |   |\n",
            "7 CTGCATGCTTAGTGCACTCACGCAGTATAATTAAT\n",
            "  Score=18\n",
            "\n"
          ]
        }
      ]
    },
    {
      "cell_type": "markdown",
      "source": [
        "### Find out all the possible global and local alignments with the maximum similarity score\n",
        "+ Matching characters :2 points, \n",
        "+ Each mismatching character: -1 point\n",
        "+ 0.5 points are deducted when opening a gap, \n",
        "+ 0.1 points are deducted when extending it."
      ],
      "metadata": {
        "id": "2MxHvIe7zACv"
      }
    },
    {
      "cell_type": "markdown",
      "source": [
        "#### Global alignment with the maximum similarity score"
      ],
      "metadata": {
        "id": "8EcUqq28z5r5"
      }
    },
    {
      "cell_type": "code",
      "source": [
        "# Get the global alignment with max sim\n",
        "\n",
        "alignment_ms = pairwise2.align.globalms(dna2,dna1,2,-1,-0.5,-0.1)\n",
        "alignment2_ms = pairwise2.align.globalms(dna2,dna1,2,-1,-0.5,-0.1,one_alignment_only=True,score_only=True)\n",
        "\n",
        "# similarity\n",
        "\n",
        "sim_ms = round(alignment2_ms/len(dna1)*100,2)"
      ],
      "metadata": {
        "id": "G6VCBWQAzbWO"
      },
      "execution_count": null,
      "outputs": []
    },
    {
      "cell_type": "code",
      "source": [
        "print(\"Global alignment with maximum similarity score\")\n",
        "print(\"{} kemungkinan\\nSkor = {}\\nSimilarity = {}%\".format(len(alignment_ms),round(alignment2_ms,1),sim_ms))"
      ],
      "metadata": {
        "colab": {
          "base_uri": "https://localhost:8080/"
        },
        "id": "Fcp0jHjszjkS",
        "outputId": "0916eac9-55b8-4d5b-8fef-855dfa37d9d3"
      },
      "execution_count": null,
      "outputs": [
        {
          "output_type": "stream",
          "name": "stdout",
          "text": [
            "Global alignment with maximum similarity score\n",
            "4 kemungkinan\n",
            "Skor = 31.2\n",
            "Similarity = 74.29%\n"
          ]
        }
      ]
    },
    {
      "cell_type": "code",
      "source": [
        "# salah satu contoh global alignment with max sim\n",
        "\n",
        "print(format_alignment(*alignment_ms[0]))"
      ],
      "metadata": {
        "colab": {
          "base_uri": "https://localhost:8080/"
        },
        "id": "dT18CUWC9MqY",
        "outputId": "e709c611-c035-4d06-dfc4-e888e39bcee8"
      },
      "execution_count": null,
      "outputs": [
        {
          "output_type": "stream",
          "name": "stdout",
          "text": [
            "------CTGC------AGTGCA---AC----TATA-TT----\n",
            "      ||||      ||||||   ||    |||| ||    \n",
            "ACTCGGCTGCATGCTTAGTGCACTCACGCAGTATAATTAATA\n",
            "  Score=31.2\n",
            "\n"
          ]
        }
      ]
    },
    {
      "cell_type": "code",
      "source": [
        "# semua kemungkinan global alignment with max sim\n",
        "\n",
        "for a in alignment_ms:\n",
        "  print(format_alignment(*a))"
      ],
      "metadata": {
        "colab": {
          "base_uri": "https://localhost:8080/"
        },
        "id": "s0WoKQtYzvwt",
        "outputId": "e4681200-9fa2-497e-d0ed-36679f2bd509"
      },
      "execution_count": null,
      "outputs": [
        {
          "output_type": "stream",
          "name": "stdout",
          "text": [
            "------CTGC------AGTGCA---AC----TATA-TT----\n",
            "      ||||      ||||||   ||    |||| ||    \n",
            "ACTCGGCTGCATGCTTAGTGCACTCACGCAGTATAATTAATA\n",
            "  Score=31.2\n",
            "\n",
            "------CTGCA------GTGCA---AC----TATA-TT----\n",
            "      |||||      |||||   ||    |||| ||    \n",
            "ACTCGGCTGCATGCTTAGTGCACTCACGCAGTATAATTAATA\n",
            "  Score=31.2\n",
            "\n",
            "------CTGC------AGTGCA---AC----TAT-ATT----\n",
            "      ||||      ||||||   ||    ||| |||    \n",
            "ACTCGGCTGCATGCTTAGTGCACTCACGCAGTATAATTAATA\n",
            "  Score=31.2\n",
            "\n",
            "------CTGCA------GTGCA---AC----TAT-ATT----\n",
            "      |||||      |||||   ||    ||| |||    \n",
            "ACTCGGCTGCATGCTTAGTGCACTCACGCAGTATAATTAATA\n",
            "  Score=31.2\n",
            "\n"
          ]
        }
      ]
    },
    {
      "cell_type": "markdown",
      "source": [
        "#### Local alignment with the maximum similarity score"
      ],
      "metadata": {
        "id": "9ZaQmlzg0AN3"
      }
    },
    {
      "cell_type": "code",
      "source": [
        "# Get the local alignment with the max sim\n",
        "\n",
        "loc_alignment_ms = pairwise2.align.localms(dna2,dna1,2,-1,-0.5,-0.1)\n",
        "loc_alignment2_ms = pairwise2.align.localms(dna2,dna1,2,-1,-0.5,-0.1,one_alignment_only=True,score_only=True)\n",
        "\n",
        "# similarity\n",
        "\n",
        "loc_sim_ms = round(loc_alignment2_ms/len(dna1)*100,2)"
      ],
      "metadata": {
        "id": "IERxPm3s0E5Z"
      },
      "execution_count": null,
      "outputs": []
    },
    {
      "cell_type": "code",
      "source": [
        "print(\"Local alignment with maximum similarity score\")\n",
        "print(\"{} kemungkinan\\nSkor = {}\\nSimilarity = {}%\".format(len(loc_alignment_ms),round(loc_alignment2_ms,1),loc_sim_ms))"
      ],
      "metadata": {
        "colab": {
          "base_uri": "https://localhost:8080/"
        },
        "id": "i6gvjxBT0LgO",
        "outputId": "4f15211a-c420-4d4d-a13d-2922817f1a9e"
      },
      "execution_count": null,
      "outputs": [
        {
          "output_type": "stream",
          "name": "stdout",
          "text": [
            "Local alignment with maximum similarity score\n",
            "4 kemungkinan\n",
            "Skor = 33.0\n",
            "Similarity = 78.57%\n"
          ]
        }
      ]
    },
    {
      "cell_type": "code",
      "source": [
        "# salah satu contoh local alignment with max sim\n",
        "\n",
        "print(format_alignment(*loc_alignment_ms[0]))"
      ],
      "metadata": {
        "colab": {
          "base_uri": "https://localhost:8080/"
        },
        "id": "TLQc0urO9UyO",
        "outputId": "56864e6b-c81b-4f66-a7c1-ac439538b670"
      },
      "execution_count": null,
      "outputs": [
        {
          "output_type": "stream",
          "name": "stdout",
          "text": [
            "1 CTGC------AGTGCA---AC----TATA-TT\n",
            "  ||||      ||||||   ||    |||| ||\n",
            "7 CTGCATGCTTAGTGCACTCACGCAGTATAATT\n",
            "  Score=33\n",
            "\n"
          ]
        }
      ]
    },
    {
      "cell_type": "code",
      "source": [
        "# semua kemungkinan local alignment with max sim\n",
        "\n",
        "for a in loc_alignment_ms:\n",
        "  print(format_alignment(*a))"
      ],
      "metadata": {
        "colab": {
          "base_uri": "https://localhost:8080/"
        },
        "id": "9aaTg_R10OaG",
        "outputId": "7d4944a3-5260-42ab-e84c-c3294ccc9d64"
      },
      "execution_count": null,
      "outputs": [
        {
          "output_type": "stream",
          "name": "stdout",
          "text": [
            "1 CTGC------AGTGCA---AC----TATA-TT\n",
            "  ||||      ||||||   ||    |||| ||\n",
            "7 CTGCATGCTTAGTGCACTCACGCAGTATAATT\n",
            "  Score=33\n",
            "\n",
            "1 CTGCA------GTGCA---AC----TATA-TT\n",
            "  |||||      |||||   ||    |||| ||\n",
            "7 CTGCATGCTTAGTGCACTCACGCAGTATAATT\n",
            "  Score=33\n",
            "\n",
            "1 CTGC------AGTGCA---AC----TAT-ATT\n",
            "  ||||      ||||||   ||    ||| |||\n",
            "7 CTGCATGCTTAGTGCACTCACGCAGTATAATT\n",
            "  Score=33\n",
            "\n",
            "1 CTGCA------GTGCA---AC----TAT-ATT\n",
            "  |||||      |||||   ||    ||| |||\n",
            "7 CTGCATGCTTAGTGCACTCACGCAGTATAATT\n",
            "  Score=33\n",
            "\n"
          ]
        }
      ]
    }
  ]
}
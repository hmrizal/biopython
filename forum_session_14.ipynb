{
  "nbformat": 4,
  "nbformat_minor": 0,
  "metadata": {
    "colab": {
      "provenance": [],
      "authorship_tag": "ABX9TyPCOGjWxTeq2sHtNKQpJXxS",
      "include_colab_link": true
    },
    "kernelspec": {
      "name": "python3",
      "display_name": "Python 3"
    },
    "language_info": {
      "name": "python"
    }
  },
  "cells": [
    {
      "cell_type": "markdown",
      "metadata": {
        "id": "view-in-github",
        "colab_type": "text"
      },
      "source": [
        "<a href=\"https://colab.research.google.com/github/hmrizal/biopython/blob/main/forum_session_14.ipynb\" target=\"_parent\"><img src=\"https://colab.research.google.com/assets/colab-badge.svg\" alt=\"Open In Colab\"/></a>"
      ]
    },
    {
      "cell_type": "markdown",
      "source": [
        "# GSLC Session 14 P1\n",
        "# 2502058490 - Helmi M. R."
      ],
      "metadata": {
        "id": "e6jDi7toGAmB"
      }
    },
    {
      "cell_type": "code",
      "execution_count": null,
      "metadata": {
        "colab": {
          "base_uri": "https://localhost:8080/"
        },
        "id": "41FnpcLZ9wbD",
        "outputId": "81cc2677-d85f-465b-8cf4-2543705db4cf"
      },
      "outputs": [
        {
          "output_type": "stream",
          "name": "stdout",
          "text": [
            "Looking in indexes: https://pypi.org/simple, https://us-python.pkg.dev/colab-wheels/public/simple/\n",
            "Collecting biopython\n",
            "  Downloading biopython-1.80-cp38-cp38-manylinux_2_17_x86_64.manylinux2014_x86_64.whl (3.1 MB)\n",
            "\u001b[2K     \u001b[90m━━━━━━━━━━━━━━━━━━━━━━━━━━━━━━━━━━━━━━━━\u001b[0m \u001b[32m3.1/3.1 MB\u001b[0m \u001b[31m21.2 MB/s\u001b[0m eta \u001b[36m0:00:00\u001b[0m\n",
            "\u001b[?25hRequirement already satisfied: numpy in /usr/local/lib/python3.8/dist-packages (from biopython) (1.21.6)\n",
            "Installing collected packages: biopython\n",
            "Successfully installed biopython-1.80\n"
          ]
        }
      ],
      "source": [
        "!pip install biopython"
      ]
    },
    {
      "cell_type": "code",
      "source": [
        "!pip install matplotlib"
      ],
      "metadata": {
        "colab": {
          "base_uri": "https://localhost:8080/"
        },
        "id": "MMc6TM5W-Qn6",
        "outputId": "760bc73c-f692-4913-a9fc-f58d5929d03a"
      },
      "execution_count": null,
      "outputs": [
        {
          "output_type": "stream",
          "name": "stdout",
          "text": [
            "Looking in indexes: https://pypi.org/simple, https://us-python.pkg.dev/colab-wheels/public/simple/\n",
            "Requirement already satisfied: matplotlib in /usr/local/lib/python3.8/dist-packages (3.2.2)\n",
            "Requirement already satisfied: kiwisolver>=1.0.1 in /usr/local/lib/python3.8/dist-packages (from matplotlib) (1.4.4)\n",
            "Requirement already satisfied: cycler>=0.10 in /usr/local/lib/python3.8/dist-packages (from matplotlib) (0.11.0)\n",
            "Requirement already satisfied: python-dateutil>=2.1 in /usr/local/lib/python3.8/dist-packages (from matplotlib) (2.8.2)\n",
            "Requirement already satisfied: pyparsing!=2.0.4,!=2.1.2,!=2.1.6,>=2.0.1 in /usr/local/lib/python3.8/dist-packages (from matplotlib) (3.0.9)\n",
            "Requirement already satisfied: numpy>=1.11 in /usr/local/lib/python3.8/dist-packages (from matplotlib) (1.21.6)\n",
            "Requirement already satisfied: six>=1.5 in /usr/local/lib/python3.8/dist-packages (from python-dateutil>=2.1->matplotlib) (1.15.0)\n"
          ]
        }
      ]
    },
    {
      "cell_type": "code",
      "source": [
        "import Bio"
      ],
      "metadata": {
        "id": "Q2CdsHHH-4pq"
      },
      "execution_count": null,
      "outputs": []
    },
    {
      "cell_type": "code",
      "source": [
        "from Bio.Seq import Seq\n",
        "from collections import Counter"
      ],
      "metadata": {
        "id": "kTCnOyW0_hmz"
      },
      "execution_count": null,
      "outputs": []
    },
    {
      "cell_type": "code",
      "source": [
        "seq_1 = Seq('ATGCATGGTGCGCGA')\n",
        "seq_2 = Seq('ATTTGTGCTCCTGGA')"
      ],
      "metadata": {
        "id": "F-cbFh0K_-aj"
      },
      "execution_count": null,
      "outputs": []
    },
    {
      "cell_type": "code",
      "source": [
        "freq_1 = Counter(seq_1)\n",
        "freq_2 = Counter(seq_2)\n",
        "\n",
        "print(\"Seq 1: \", freq_1)\n",
        "print(\"Seq 2: \", freq_2)"
      ],
      "metadata": {
        "colab": {
          "base_uri": "https://localhost:8080/"
        },
        "id": "2DoSi1tzArhq",
        "outputId": "9b50066b-c06f-405f-d606-14a479b69757"
      },
      "execution_count": null,
      "outputs": [
        {
          "output_type": "stream",
          "name": "stdout",
          "text": [
            "Seq 1:  Counter({'G': 6, 'A': 3, 'T': 3, 'C': 3})\n",
            "Seq 2:  Counter({'T': 6, 'G': 4, 'C': 3, 'A': 2})\n"
          ]
        }
      ]
    },
    {
      "cell_type": "code",
      "source": [
        "import matplotlib.pyplot as plt"
      ],
      "metadata": {
        "id": "xcOe1zZGBDCo"
      },
      "execution_count": null,
      "outputs": []
    },
    {
      "cell_type": "code",
      "source": [
        "import numpy as np"
      ],
      "metadata": {
        "id": "OhE5YDo5BXQp"
      },
      "execution_count": null,
      "outputs": []
    },
    {
      "cell_type": "code",
      "source": [
        "# 1. Plot of Frequency of Nucleotides/Base on each sequence\n",
        "\n",
        "base = list(freq_1.keys())\n",
        "val_1 = list(freq_1.values())\n",
        "val_2 = list(freq_2.values())\n",
        "\n",
        "x_axis = np.arange(len(base))\n",
        "\n",
        "plt.bar(x_axis -0.2, val_1, width=0.4, label = 'Seq 1')\n",
        "plt.bar(x_axis +0.2, val_2, width=0.4, label = 'Seq 2')\n",
        "\n",
        "plt.xticks(x_axis, base)\n",
        "plt.xlabel(\"Nucleotides\")\n",
        "plt.ylabel(\"Frequency\")\n",
        "plt.title(\"Frequency of Nucleotides in each sequence\")\n",
        "plt.legend()\n",
        "plt.show()"
      ],
      "metadata": {
        "colab": {
          "base_uri": "https://localhost:8080/",
          "height": 295
        },
        "id": "nfE6wxiZBaO5",
        "outputId": "ee5e1ad5-db22-4798-e449-c30bd847e5b4"
      },
      "execution_count": null,
      "outputs": [
        {
          "output_type": "display_data",
          "data": {
            "text/plain": [
              "<Figure size 432x288 with 1 Axes>"
            ],
            "image/png": "[encoded data removed]"
          },
          "metadata": {
            "needs_background": "light"
          }
        }
      ]
    },
    {
      "cell_type": "code",
      "source": [
        "# 2. Which of the sequences will have the highest GC ?\n",
        "\n",
        "def gc_content(seq):\n",
        "    result = float(seq.count('G') + seq.count('C'))/len(seq) * 100\n",
        "    return result\n",
        "\n",
        "print(\"GC Seq 1: \", round(gc_content(seq_1),2),\"%\")\n",
        "print(\"GC Seq 2: \", round(gc_content(seq_2),2),\"%\")"
      ],
      "metadata": {
        "colab": {
          "base_uri": "https://localhost:8080/"
        },
        "id": "0D36rZj0EVnM",
        "outputId": "aecb05e8-b2e7-4d61-e7ed-0654d271d97e"
      },
      "execution_count": null,
      "outputs": [
        {
          "output_type": "stream",
          "name": "stdout",
          "text": [
            "GC Seq 1:  60.0 %\n",
            "GC Seq 2:  46.67 %\n"
          ]
        }
      ]
    },
    {
      "cell_type": "markdown",
      "source": [
        "# GSLC Session 14 P2\n",
        "# 2502058490 - Helmi M. R."
      ],
      "metadata": {
        "id": "C0xvdw6SY4Hs"
      }
    },
    {
      "cell_type": "code",
      "source": [
        "import Bio.SeqUtils"
      ],
      "metadata": {
        "id": "SnaInFLXY95E"
      },
      "execution_count": null,
      "outputs": []
    },
    {
      "cell_type": "code",
      "source": [
        "from Bio.SeqUtils import MeltingTemp as mt"
      ],
      "metadata": {
        "id": "XsCy04nyZNfE"
      },
      "execution_count": null,
      "outputs": []
    },
    {
      "cell_type": "code",
      "source": [
        "from Bio.SeqUtils import molecular_weight as mw"
      ],
      "metadata": {
        "id": "oPPseHYRa9fr"
      },
      "execution_count": null,
      "outputs": []
    },
    {
      "cell_type": "code",
      "source": [
        "# 1. Which of the sequence will have higher melting temperature\n",
        "\n",
        "# Wallace\n",
        "print(\"Melting temp. Seq 1: \", round(mt.Tm_Wallace(seq_1),2), \"(Wallace)\")\n",
        "print(\"Melting temp. Seq 2: \", round(mt.Tm_Wallace(seq_2),2), \"(Wallace)\")\n",
        "\n",
        "# GC Content\n",
        "print(\"Melting temp. Seq 1: \", round(mt.Tm_GC(seq_1),2), \"(GC Content)\")\n",
        "print(\"Melting temp. Seq 2: \", round(mt.Tm_GC(seq_2),2), \"(GC Content)\")"
      ],
      "metadata": {
        "colab": {
          "base_uri": "https://localhost:8080/"
        },
        "id": "w3wcuZpuZdYi",
        "outputId": "07e8af60-b15b-43fa-ebf4-551fc5caadc3"
      },
      "execution_count": null,
      "outputs": [
        {
          "output_type": "stream",
          "name": "stdout",
          "text": [
            "Melting temp. Seq 1:  48.0 (Wallace)\n",
            "Melting temp. Seq 2:  44.0 (Wallace)\n",
            "Melting temp. Seq 1:  44.5 (GC Content)\n",
            "Melting temp. Seq 2:  39.04 (GC Content)\n"
          ]
        }
      ]
    },
    {
      "cell_type": "code",
      "source": [
        "# 2. Which of the sequence will have the highest Molecular Weight ?\n",
        "\n",
        "print(\"Molecular Weight Seq 1: \", round(mw(seq_1),2))\n",
        "print(\"Molecular Weight Seq 2: \", round(mw(seq_2),2))"
      ],
      "metadata": {
        "colab": {
          "base_uri": "https://localhost:8080/"
        },
        "id": "kVdcoSWLa18s",
        "outputId": "9c091d07-114d-48a8-9647-6f44422b5dd1"
      },
      "execution_count": null,
      "outputs": [
        {
          "output_type": "stream",
          "name": "stdout",
          "text": [
            "Molecular Weight Seq 1:  4713.0\n",
            "Molecular Weight Seq 2:  4653.96\n"
          ]
        }
      ]
    }
  ]
}